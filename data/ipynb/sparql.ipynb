{
 "cells": [
  {
   "cell_type": "code",
   "execution_count": 1,
   "id": "975ac757-b8f0-44b0-b2de-6d5448ddc405",
   "metadata": {
    "kernel": "sparql",
    "slideshow": {
     "slide_type": "skip"
    },
    "tags": [
     "config"
    ]
   },
   "outputs": [
    {
     "data": {
      "text/html": [
       "<div class=\"krn-spql\"><div class=\"magic\">Endpoint set to: http://labo-vm-2.v202.abes.fr:7200/repositories/men-habilitations-v3-habilitations-partielles-inference</div></div>"
      ],
      "text/plain": [
       "Endpoint set to: http://labo-vm-2.v202.abes.fr:7200/repositories/men-habilitations-v3-habilitations-partielles-inference\n"
      ]
     },
     "metadata": {},
     "output_type": "display_data"
    }
   ],
   "source": [
    "%endpoint http://labo-vm-2.v202.abes.fr:7200/repositories/men-habilitations-v3-habilitations-partielles-inference"
   ]
  },
  {
   "cell_type": "code",
   "execution_count": 2,
   "id": "a0a10d15-2cb4-4a51-a4ae-b75a620cf465",
   "metadata": {
    "kernel": "sparql"
   },
   "outputs": [
    {
     "data": {
      "text/html": [
       "<div class=\"krn-spql\"><div class=\"magic\">Endpoint set to: http://labo-vm-2.v202.abes.fr:7200/repositories/men-habilitations-v5-inference-legal-base</div></div>"
      ],
      "text/plain": [
       "Endpoint set to: http://labo-vm-2.v202.abes.fr:7200/repositories/men-habilitations-v5-inference-legal-base\n"
      ]
     },
     "metadata": {},
     "output_type": "display_data"
    }
   ],
   "source": [
    "%endpoint http://labo-vm-2.v202.abes.fr:7200/repositories/men-habilitations-v5-inference-legal-base"
   ]
  },
  {
   "cell_type": "markdown",
   "id": "765c63b3-3e2f-499f-8302-1667f647974b",
   "metadata": {
    "kernel": "sparql"
   },
   "source": [
    "<center><h1>Movies</h1></center>\n",
    "\n",
    "---"
   ]
  },
  {
   "cell_type": "markdown",
   "id": "911cc9ce-9402-4ab3-adab-103094c489e9",
   "metadata": {
    "kernel": "sparql",
    "tags": []
   },
   "source": [
    "## Modélisation des habilitations doctorales\n",
    "\n",
    "### Habilitation simple\n",
    "\n",
    "<center>\n",
    "    <figure>\n",
    "        <img width=\"90%\" src=\"habilitation_doctorale.svg\">\n",
    "        <figcaption>Modélisation de l'habilitation doctorale</figcaption>\n",
    "    </figure>\n",
    "</center>\n",
    "\n",
    "### Délégation de l'habilitation doctorale\n",
    "\n",
    "<center>\n",
    "    <figure>\n",
    "        <img width=\"90%\" src=\"delegation_doctorale.svg\">\n",
    "        <figcaption>Modélisation de la délégation doctorale</figcaption>\n",
    "    </figure>\n",
    "</center>\n",
    "\n",
    "__États des établissements__\n",
    "\n",
    "En matière de compétences doctorales il existe quatre états distincts :\n",
    "\n",
    "* `habilitation` l'établissement possède l'intégralité de l'habilitation\n",
    "* `delegationDoctorale` l'établissement délègue l'intégralité de son habilitation à un établissement tiers\n",
    "\n",
    "\n",
    "Quelques règles régissent les état doctoraux : ils sont exclusifs les uns des autres ; ils bornés chronologiquement, ces bornes doivent s'inscrire dans celles de l'établissement auquel ils se rapportent : une habilitation ne peut pas être antérieure à la création d'un établissement ou postérieure à la fermeture d'un établissement ; l'état de délégation partielle implique nécessairement l'existence d'un état d'habilitation partielle.\n",
    "\n",
    "__Propriétés :__\n",
    "\n",
    "| nom        | description             | obligatoire                     | note |\n",
    "|------------|-------------------------|---------------------------------|------|\n",
    "| `from`     | établissement source    | <input type=\"checkbox\" checked> |      |\n",
    "| `to`       | établissement cible     | <input type=\"checkbox\">         |      |\n",
    "| `start`    | date de début de l'état | <input type=\"checkbox\" checked> |      |\n",
    "| `end`      | date de fin de l'état   | <input type=\"checkbox\">         |      |\n",
    "| `notes`    |                         | <input type=\"checkbox\">         |      |\n",
    "\n"
   ]
  },
  {
   "cell_type": "markdown",
   "id": "52e63d0d-da66-47a0-b97f-56329e04174d",
   "metadata": {
    "kernel": "sparql",
    "tags": []
   },
   "source": [
    "## Cas d'usage"
   ]
  },
  {
   "cell_type": "markdown",
   "id": "0be2d03a-7b68-4c39-b3c9-d48526dbefd8",
   "metadata": {
    "kernel": "sparql"
   },
   "source": [
    "### Liste des habilitations doctorales\n",
    "\n",
    "> un établissement peut être habilité plusieurs fois"
   ]
  },
  {
   "cell_type": "code",
   "execution_count": 3,
   "id": "0ef85126-0ab3-4c61-9556-fbd26df9c845",
   "metadata": {
    "kernel": "sparql",
    "tags": []
   },
   "outputs": [
    {
     "data": {
      "text/html": [
       "<div class=\"krn-spql\"><table><tr class=hdr><th>etat_doctoral</th>\n",
       "<th>etat_label</th>\n",
       "<th>etab_label</th>\n",
       "<th>start</th>\n",
       "<th>end</th>\n",
       "<th>legal_base</th></tr><tr class=odd><td class=val><a href=\"http://www.abes.fr/entities/etats/39f0615d482d632921b20eeb172dfe68198911a4\" target=\"_other\">http://www.abes.fr/entities/etats/39f0615d482d632921b20eeb172dfe68198911a4</a></td>\n",
       "<td class=val>Habilitation</td>\n",
       "<td class=val>Institut national des sciences et industries du vivant et de l'environnement</td>\n",
       "<td class=val>2006-12-13</td>\n",
       "<td class=val>2015-08-31</td>\n",
       "<td class=val><a href=\"https://www.legifrance.gouv.fr/loda/id/JORFTEXT000000245929/\" target=\"_other\">https://www.legifrance.gouv.fr/loda/id/JORFTEXT000000245929/</a></td></tr><tr class=even><td class=val><a href=\"http://www.abes.fr/entities/etats/99a58ffd966bfb4d33aca15de76517a1aee0a838\" target=\"_other\">http://www.abes.fr/entities/etats/99a58ffd966bfb4d33aca15de76517a1aee0a838</a></td>\n",
       "<td class=val>Habilitation</td>\n",
       "<td class=val>Aix-Marseille I</td>\n",
       "<td class=val>???</td>\n",
       "<td class=val>2011-12-31</td>\n",
       "<td class=val></td></tr><tr class=odd><td class=val><a href=\"http://www.abes.fr/entities/etats/ad6e7eba8c1f6367120899274cefda956175066e\" target=\"_other\">http://www.abes.fr/entities/etats/ad6e7eba8c1f6367120899274cefda956175066e</a></td>\n",
       "<td class=val>Habilitation</td>\n",
       "<td class=val>Université d'Aix-Marseille III</td>\n",
       "<td class=val>???</td>\n",
       "<td class=val>2011-12-31</td>\n",
       "<td class=val><a href=\"https://www.legifrance.gouv.fr/jorf/id/JORFTEXT000000500623\" target=\"_other\">https://www.legifrance.gouv.fr/jorf/id/JORFTEXT000000500623</a></td></tr><tr class=even><td class=val><a href=\"http://www.abes.fr/entities/etats/5e0d6aa15e81887fd6dc73918341c5ca9b2194f9\" target=\"_other\">http://www.abes.fr/entities/etats/5e0d6aa15e81887fd6dc73918341c5ca9b2194f9</a></td>\n",
       "<td class=val>Habilitation</td>\n",
       "<td class=val>Aix-Marseille Université</td>\n",
       "<td class=val>2012-01-01</td>\n",
       "<td class=val>9999-12-31</td>\n",
       "<td class=val><a href=\"https://www.legifrance.gouv.fr/loda/id/JORFTEXT000024502554\" target=\"_other\">https://www.legifrance.gouv.fr/loda/id/JORFTEXT000024502554</a></td></tr><tr class=odd><td class=val><a href=\"http://www.abes.fr/entities/etats/ea165cfce6e5bf6acabb15c6650c1e7a53d54a13\" target=\"_other\">http://www.abes.fr/entities/etats/ea165cfce6e5bf6acabb15c6650c1e7a53d54a13</a></td>\n",
       "<td class=val>Habilitation</td>\n",
       "<td class=val>Université d’Amiens</td>\n",
       "<td class=val>1971-06-29</td>\n",
       "<td class=val>9999-12-31</td>\n",
       "<td class=val><a href=\"https://www.legifrance.gouv.fr/jorf/id/JORFTEXT000000853165\" target=\"_other\">https://www.legifrance.gouv.fr/jorf/id/JORFTEXT000000853165</a></td></tr><tr class=even><td class=val><a href=\"http://www.abes.fr/entities/etats/10ba3ae6650834efe1991ff6c5a56095841e108a\" target=\"_other\">http://www.abes.fr/entities/etats/10ba3ae6650834efe1991ff6c5a56095841e108a</a></td>\n",
       "<td class=val>Habilitation</td>\n",
       "<td class=val>Université d'Angers</td>\n",
       "<td class=val>1971-10-25</td>\n",
       "<td class=val>9999-12-31</td>\n",
       "<td class=val><a href=\"https://www.legifrance.gouv.fr/jorf/id/JORFTEXT000000336401\" target=\"_other\">https://www.legifrance.gouv.fr/jorf/id/JORFTEXT000000336401</a></td></tr><tr class=odd><td class=val><a href=\"http://www.abes.fr/entities/etats/5e4278067716f67dc4e4ce0047960ffc03ed185a\" target=\"_other\">http://www.abes.fr/entities/etats/5e4278067716f67dc4e4ce0047960ffc03ed185a</a></td>\n",
       "<td class=val>Habilitation</td>\n",
       "<td class=val>Université des Antilles</td>\n",
       "<td class=val>2015-06-25</td>\n",
       "<td class=val>9999-12-31</td>\n",
       "<td class=val></td></tr><tr class=even><td class=val><a href=\"http://www.abes.fr/entities/etats/7421f66245519b497f80b8003b40d00d133c48c1\" target=\"_other\">http://www.abes.fr/entities/etats/7421f66245519b497f80b8003b40d00d133c48c1</a></td>\n",
       "<td class=val>Habilitation</td>\n",
       "<td class=val>Université d'Artois</td>\n",
       "<td class=val>1991-11-07</td>\n",
       "<td class=val>9999-12-31</td>\n",
       "<td class=val><a href=\"https://www.legifrance.gouv.fr/jorf/id/JORFTEXT000000355616\" target=\"_other\">https://www.legifrance.gouv.fr/jorf/id/JORFTEXT000000355616</a></td></tr><tr class=odd><td class=val><a href=\"http://www.abes.fr/entities/etats/4960024b2f106943aa10981630490c393830b325\" target=\"_other\">http://www.abes.fr/entities/etats/4960024b2f106943aa10981630490c393830b325</a></td>\n",
       "<td class=val>Habilitation</td>\n",
       "<td class=val>Université d'Avignon</td>\n",
       "<td class=val>1984-07-17</td>\n",
       "<td class=val>9999-12-31</td>\n",
       "<td class=val></td></tr><tr class=even><td class=val><a href=\"http://www.abes.fr/entities/etats/c1fba056a399446ffa43a0ea8fe249a8ec1c2ea4\" target=\"_other\">http://www.abes.fr/entities/etats/c1fba056a399446ffa43a0ea8fe249a8ec1c2ea4</a></td>\n",
       "<td class=val>Habilitation</td>\n",
       "<td class=val>Université Côte d'Azur</td>\n",
       "<td class=val>2016-09-01</td>\n",
       "<td class=val>9999-12-31</td>\n",
       "<td class=val></td></tr><tr class=odd><td class=val><a href=\"http://www.abes.fr/entities/etats/0b4ae3918b7a1cd0cc73760cafa0ed5eaf5e073f\" target=\"_other\">http://www.abes.fr/entities/etats/0b4ae3918b7a1cd0cc73760cafa0ed5eaf5e073f</a></td>\n",
       "<td class=val>Habilitation</td>\n",
       "<td class=val>Université de technologie de Belfort-Montbéliard</td>\n",
       "<td class=val>2000-08-21</td>\n",
       "<td class=val>2016-12-31</td>\n",
       "<td class=val><a href=\"https://www.legifrance.gouv.fr/loda/id/JORFTEXT000000209137/\" target=\"_other\">https://www.legifrance.gouv.fr/loda/id/JORFTEXT000000209137/</a></td></tr><tr class=even><td class=val><a href=\"http://www.abes.fr/entities/etats/e7c8f219fafb585be292c8241ac3a2a89ebe44d9\" target=\"_other\">http://www.abes.fr/entities/etats/e7c8f219fafb585be292c8241ac3a2a89ebe44d9</a></td>\n",
       "<td class=val>Habilitation</td>\n",
       "<td class=val>Université de Besançon</td>\n",
       "<td class=val>1968-01-01</td>\n",
       "<td class=val>2016-12-31</td>\n",
       "<td class=val></td></tr><tr class=odd><td class=val><a href=\"http://www.abes.fr/entities/etats/6872169f3f515e9d517a182be0d4df94bfcc6308\" target=\"_other\">http://www.abes.fr/entities/etats/6872169f3f515e9d517a182be0d4df94bfcc6308</a></td>\n",
       "<td class=val>Habilitation</td>\n",
       "<td class=val>Université Bordeaux-I</td>\n",
       "<td class=val>???</td>\n",
       "<td class=val>2013-12-31</td>\n",
       "<td class=val></td></tr><tr class=even><td class=val><a href=\"http://www.abes.fr/entities/etats/3262afae56d4e7cdaff11fa343cbcfb3b2c3d922\" target=\"_other\">http://www.abes.fr/entities/etats/3262afae56d4e7cdaff11fa343cbcfb3b2c3d922</a></td>\n",
       "<td class=val>Habilitation</td>\n",
       "<td class=val>Université Bordeaux-II</td>\n",
       "<td class=val>???</td>\n",
       "<td class=val>2013-12-31</td>\n",
       "<td class=val></td></tr><tr class=odd><td class=val><a href=\"http://www.abes.fr/entities/etats/a3d019e993f388972cb224720e0cd995e4631879\" target=\"_other\">http://www.abes.fr/entities/etats/a3d019e993f388972cb224720e0cd995e4631879</a></td>\n",
       "<td class=val>Habilitation</td>\n",
       "<td class=val>Université de Bordeaux-III</td>\n",
       "<td class=val>???</td>\n",
       "<td class=val>9999-12-31</td>\n",
       "<td class=val></td></tr><tr class=even><td class=val><a href=\"http://www.abes.fr/entities/etats/900fa190254436ccd8c46adbfd56037a844dcff4\" target=\"_other\">http://www.abes.fr/entities/etats/900fa190254436ccd8c46adbfd56037a844dcff4</a></td>\n",
       "<td class=val>Habilitation</td>\n",
       "<td class=val>Université Bordeaux-IV</td>\n",
       "<td class=val>???</td>\n",
       "<td class=val>2013-12-31</td>\n",
       "<td class=val><a href=\"https://www.legifrance.gouv.fr/loda/id/JORFTEXT000000168265/\" target=\"_other\">https://www.legifrance.gouv.fr/loda/id/JORFTEXT000000168265/</a></td></tr><tr class=odd><td class=val><a href=\"http://www.abes.fr/entities/etats/c8cf4806a7e7ef6b8cf9a31766665f08a189b34b\" target=\"_other\">http://www.abes.fr/entities/etats/c8cf4806a7e7ef6b8cf9a31766665f08a189b34b</a></td>\n",
       "<td class=val>Habilitation</td>\n",
       "<td class=val>Université de Bordeaux</td>\n",
       "<td class=val>2014-01-01</td>\n",
       "<td class=val>9999-12-31</td>\n",
       "<td class=val><a href=\"https://www.legifrance.gouv.fr/loda/id/JORFTEXT000027927174\" target=\"_other\">https://www.legifrance.gouv.fr/loda/id/JORFTEXT000027927174</a></td></tr><tr class=even><td class=val><a href=\"http://www.abes.fr/entities/etats/5882cd617cdfca6071feb480c3581715b41d5b14\" target=\"_other\">http://www.abes.fr/entities/etats/5882cd617cdfca6071feb480c3581715b41d5b14</a></td>\n",
       "<td class=val>Habilitation</td>\n",
       "<td class=val>Université de Brest</td>\n",
       "<td class=val>1975-08-28</td>\n",
       "<td class=val>9999-12-31</td>\n",
       "<td class=val></td></tr><tr class=odd><td class=val><a href=\"http://www.abes.fr/entities/etats/a0c6b696936323e2ab2fa4a2208dce76a4a317e4\" target=\"_other\">http://www.abes.fr/entities/etats/a0c6b696936323e2ab2fa4a2208dce76a4a317e4</a></td>\n",
       "<td class=val>Habilitation</td>\n",
       "<td class=val>Université de Caen</td>\n",
       "<td class=val>1432-01-01</td>\n",
       "<td class=val>2016-12-31</td>\n",
       "<td class=val></td></tr><tr class=even><td class=val><a href=\"http://www.abes.fr/entities/etats/0096cea7247bd98f2cb891e1bf856a13e6448c86\" target=\"_other\">http://www.abes.fr/entities/etats/0096cea7247bd98f2cb891e1bf856a13e6448c86</a></td>\n",
       "<td class=val>Habilitation</td>\n",
       "<td class=val>Université de Cergy-Pontoise</td>\n",
       "<td class=val>1993-01-01</td>\n",
       "<td class=val>2019-12-31</td>\n",
       "<td class=val><a href=\"https://www.legifrance.gouv.fr/jorf/id/JORFTEXT000000720555\" target=\"_other\">https://www.legifrance.gouv.fr/jorf/id/JORFTEXT000000720555</a></td></tr></table><div class=\"tinfo\">Total: 219, Shown: 20</div></div>"
      ]
     },
     "metadata": {},
     "output_type": "display_data"
    }
   ],
   "source": [
    "PREFIX mov: <http://www.abes.fr/vocabularies/movies#>\n",
    "PREFIX wdt: <http://www.wikidata.org/prop/direct/>\n",
    "PREFIX foaf: <http://xmlns.com/foaf/0.1/>\n",
    "PREFIX rdfs: <http://www.w3.org/2000/01/rdf-schema#>\n",
    "PREFIX rdf: <http://www.w3.org/1999/02/22-rdf-syntax-ns#>\n",
    "PREFIX skos: <http://www.w3.org/2004/02/skos/core#>\n",
    "        \n",
    "SELECT DISTINCT ?etat_doctoral ?etat_label ?etab_label ?start ?end ?legal_base WHERE {\n",
    "    ?etat_doctoral a [ ?x mov:EtatDoctoral; rdfs:label ?etat_label];\n",
    "                                            mov:from [skos:prefLabel ?etab_label].\n",
    "\n",
    "    OPTIONAL {\n",
    "        ?etat_doctoral mov:legalBase ?legal_base.\n",
    "    }\n",
    "    \n",
    "    OPTIONAL {\n",
    "        ?etat_doctoral mov:start ?start.\n",
    "    }\n",
    "    \n",
    "    OPTIONAL {\n",
    "        ?etat_doctoral mov:end ?end.\n",
    "    }\n",
    "    \n",
    "    FILTER(LANG(?etat_label) = \"en\")\n",
    "    FILTER(LANG(?etab_label) = \"fr\")\n",
    "}"
   ]
  },
  {
   "cell_type": "markdown",
   "id": "6ea8622b-4a88-479b-84c4-41e35f9aa39e",
   "metadata": {
    "kernel": "sparql"
   },
   "source": [
    "### Liste des établissements habilités"
   ]
  },
  {
   "cell_type": "code",
   "execution_count": 4,
   "id": "5cd3a640-957b-4592-a6f0-0bd30d85ca59",
   "metadata": {
    "kernel": "sparql"
   },
   "outputs": [
    {
     "data": {
      "text/html": [
       "<div class=\"krn-spql\"><div class=\"magic\">Param set: infer = true</div><div class=\"magic\">Param set: sameAs = false</div><div class=\"magic\">Result maximum size: 20</div></div>"
      ],
      "text/plain": [
       "Param set: infer = true\n",
       "Param set: sameAs = false\n",
       "Result maximum size: 20\n"
      ]
     },
     "metadata": {},
     "output_type": "display_data"
    },
    {
     "data": {
      "text/html": [
       "<div class=\"krn-spql\"><table><tr class=hdr><th>etat_doctoral</th>\n",
       "<th>etat_label</th>\n",
       "<th>etab_label</th>\n",
       "<th>start</th>\n",
       "<th>end</th></tr><tr class=odd><td class=val><a href=\"http://www.abes.fr/entities/etats/5e0d6aa15e81887fd6dc73918341c5ca9b2194f9\" target=\"_other\">http://www.abes.fr/entities/etats/5e0d6aa15e81887fd6dc73918341c5ca9b2194f9</a></td>\n",
       "<td class=val>Habilitation</td>\n",
       "<td class=val>Aix-Marseille Université</td>\n",
       "<td class=val>2012-01-01</td>\n",
       "<td class=val>9999-12-31</td></tr><tr class=even><td class=val><a href=\"http://www.abes.fr/entities/etats/ea165cfce6e5bf6acabb15c6650c1e7a53d54a13\" target=\"_other\">http://www.abes.fr/entities/etats/ea165cfce6e5bf6acabb15c6650c1e7a53d54a13</a></td>\n",
       "<td class=val>Habilitation</td>\n",
       "<td class=val>Université d’Amiens</td>\n",
       "<td class=val>1971-06-29</td>\n",
       "<td class=val>9999-12-31</td></tr><tr class=odd><td class=val><a href=\"http://www.abes.fr/entities/etats/10ba3ae6650834efe1991ff6c5a56095841e108a\" target=\"_other\">http://www.abes.fr/entities/etats/10ba3ae6650834efe1991ff6c5a56095841e108a</a></td>\n",
       "<td class=val>Habilitation</td>\n",
       "<td class=val>Université d'Angers</td>\n",
       "<td class=val>1971-10-25</td>\n",
       "<td class=val>9999-12-31</td></tr><tr class=even><td class=val><a href=\"http://www.abes.fr/entities/etats/5e4278067716f67dc4e4ce0047960ffc03ed185a\" target=\"_other\">http://www.abes.fr/entities/etats/5e4278067716f67dc4e4ce0047960ffc03ed185a</a></td>\n",
       "<td class=val>Habilitation</td>\n",
       "<td class=val>Université des Antilles</td>\n",
       "<td class=val>2015-06-25</td>\n",
       "<td class=val>9999-12-31</td></tr><tr class=odd><td class=val><a href=\"http://www.abes.fr/entities/etats/7421f66245519b497f80b8003b40d00d133c48c1\" target=\"_other\">http://www.abes.fr/entities/etats/7421f66245519b497f80b8003b40d00d133c48c1</a></td>\n",
       "<td class=val>Habilitation</td>\n",
       "<td class=val>Université d'Artois</td>\n",
       "<td class=val>1991-11-07</td>\n",
       "<td class=val>9999-12-31</td></tr><tr class=even><td class=val><a href=\"http://www.abes.fr/entities/etats/4960024b2f106943aa10981630490c393830b325\" target=\"_other\">http://www.abes.fr/entities/etats/4960024b2f106943aa10981630490c393830b325</a></td>\n",
       "<td class=val>Habilitation</td>\n",
       "<td class=val>Université d'Avignon</td>\n",
       "<td class=val>1984-07-17</td>\n",
       "<td class=val>9999-12-31</td></tr><tr class=odd><td class=val><a href=\"http://www.abes.fr/entities/etats/c1fba056a399446ffa43a0ea8fe249a8ec1c2ea4\" target=\"_other\">http://www.abes.fr/entities/etats/c1fba056a399446ffa43a0ea8fe249a8ec1c2ea4</a></td>\n",
       "<td class=val>Habilitation</td>\n",
       "<td class=val>Université Côte d'Azur</td>\n",
       "<td class=val>2016-09-01</td>\n",
       "<td class=val>9999-12-31</td></tr><tr class=even><td class=val><a href=\"http://www.abes.fr/entities/etats/a3d019e993f388972cb224720e0cd995e4631879\" target=\"_other\">http://www.abes.fr/entities/etats/a3d019e993f388972cb224720e0cd995e4631879</a></td>\n",
       "<td class=val>Habilitation</td>\n",
       "<td class=val>Université de Bordeaux-III</td>\n",
       "<td class=val>???</td>\n",
       "<td class=val>9999-12-31</td></tr><tr class=odd><td class=val><a href=\"http://www.abes.fr/entities/etats/c8cf4806a7e7ef6b8cf9a31766665f08a189b34b\" target=\"_other\">http://www.abes.fr/entities/etats/c8cf4806a7e7ef6b8cf9a31766665f08a189b34b</a></td>\n",
       "<td class=val>Habilitation</td>\n",
       "<td class=val>Université de Bordeaux</td>\n",
       "<td class=val>2014-01-01</td>\n",
       "<td class=val>9999-12-31</td></tr><tr class=even><td class=val><a href=\"http://www.abes.fr/entities/etats/5882cd617cdfca6071feb480c3581715b41d5b14\" target=\"_other\">http://www.abes.fr/entities/etats/5882cd617cdfca6071feb480c3581715b41d5b14</a></td>\n",
       "<td class=val>Habilitation</td>\n",
       "<td class=val>Université de Brest</td>\n",
       "<td class=val>1975-08-28</td>\n",
       "<td class=val>9999-12-31</td></tr><tr class=odd><td class=val><a href=\"http://www.abes.fr/entities/etats/bf58e37cd0da90c6471eafdfe7d1cc4377e0bb7a\" target=\"_other\">http://www.abes.fr/entities/etats/bf58e37cd0da90c6471eafdfe7d1cc4377e0bb7a</a></td>\n",
       "<td class=val>Habilitation</td>\n",
       "<td class=val>Université de Chambéry</td>\n",
       "<td class=val>2019-09-01</td>\n",
       "<td class=val>9999-12-31</td></tr><tr class=even><td class=val><a href=\"http://www.abes.fr/entities/etats/8c58f4216e521df73ffc163723ddeb3e5acc4fbf\" target=\"_other\">http://www.abes.fr/entities/etats/8c58f4216e521df73ffc163723ddeb3e5acc4fbf</a></td>\n",
       "<td class=val>Habilitation</td>\n",
       "<td class=val>Université de technologie de Compiègne</td>\n",
       "<td class=val>1985-06-27</td>\n",
       "<td class=val>9999-12-31</td></tr><tr class=odd><td class=val><a href=\"http://www.abes.fr/entities/etats/d7b690ff5b0897cca4a0c1788dce899b8d42dee7\" target=\"_other\">http://www.abes.fr/entities/etats/d7b690ff5b0897cca4a0c1788dce899b8d42dee7</a></td>\n",
       "<td class=val>Habilitation</td>\n",
       "<td class=val>Université de Corse</td>\n",
       "<td class=val>???</td>\n",
       "<td class=val>9999-12-31</td></tr><tr class=even><td class=val><a href=\"http://www.abes.fr/entities/etats/13e2bcee27bbc4906d8ed56a7284a0b095f36fdb\" target=\"_other\">http://www.abes.fr/entities/etats/13e2bcee27bbc4906d8ed56a7284a0b095f36fdb</a></td>\n",
       "<td class=val>Habilitation</td>\n",
       "<td class=val>CentraleSupélec</td>\n",
       "<td class=val>2015-01-01</td>\n",
       "<td class=val>9999-12-31</td></tr><tr class=odd><td class=val><a href=\"http://www.abes.fr/entities/etats/e1d0ac71d189d82c4bf791e52497b68b91011953\" target=\"_other\">http://www.abes.fr/entities/etats/e1d0ac71d189d82c4bf791e52497b68b91011953</a></td>\n",
       "<td class=val>Habilitation</td>\n",
       "<td class=val>Université du Littoral</td>\n",
       "<td class=val>1991-11-07</td>\n",
       "<td class=val>9999-12-31</td></tr><tr class=even><td class=val><a href=\"http://www.abes.fr/entities/etats/8c6b47813f7a28038fe31ec3da7fb919b0a77c9b\" target=\"_other\">http://www.abes.fr/entities/etats/8c6b47813f7a28038fe31ec3da7fb919b0a77c9b</a></td>\n",
       "<td class=val>Habilitation</td>\n",
       "<td class=val>École centrale de Marseille</td>\n",
       "<td class=val>???</td>\n",
       "<td class=val>9999-12-31</td></tr><tr class=odd><td class=val><a href=\"http://www.abes.fr/entities/etats/8d7df156d71de6f1a5d9258ff12d198d12ba9475\" target=\"_other\">http://www.abes.fr/entities/etats/8d7df156d71de6f1a5d9258ff12d198d12ba9475</a></td>\n",
       "<td class=val>Habilitation</td>\n",
       "<td class=val>École centrale de Nantes</td>\n",
       "<td class=val>2008-10-01</td>\n",
       "<td class=val>9999-12-31</td></tr><tr class=even><td class=val><a href=\"http://www.abes.fr/entities/etats/68422ceffadcea2431b08f75bf5fd9d285c9fda9\" target=\"_other\">http://www.abes.fr/entities/etats/68422ceffadcea2431b08f75bf5fd9d285c9fda9</a></td>\n",
       "<td class=val>Habilitation</td>\n",
       "<td class=val>Centrale Lille Institut</td>\n",
       "<td class=val>2006-08-24</td>\n",
       "<td class=val>9999-12-31</td></tr><tr class=odd><td class=val><a href=\"http://www.abes.fr/entities/etats/574854b1d90402c1e921b5b4d85cadcf6d76cf0c\" target=\"_other\">http://www.abes.fr/entities/etats/574854b1d90402c1e921b5b4d85cadcf6d76cf0c</a></td>\n",
       "<td class=val>Habilitation</td>\n",
       "<td class=val>École des hautes études commerciales de Paris</td>\n",
       "<td class=val>2019-09-01</td>\n",
       "<td class=val>9999-12-31</td></tr><tr class=even><td class=val><a href=\"http://www.abes.fr/entities/etats/394f4af3c2cd866f2d0b41b59ab7f9ad717fbc35\" target=\"_other\">http://www.abes.fr/entities/etats/394f4af3c2cd866f2d0b41b59ab7f9ad717fbc35</a></td>\n",
       "<td class=val>Habilitation</td>\n",
       "<td class=val>École des hautes études en sciences sociales</td>\n",
       "<td class=val>1985-06-27</td>\n",
       "<td class=val>9999-12-31</td></tr></table><div class=\"tinfo\">Total: 129, Shown: 20</div></div>"
      ]
     },
     "metadata": {},
     "output_type": "display_data"
    }
   ],
   "source": [
    "%qparam infer true\n",
    "%qparam sameAs false\n",
    "%show 20\n",
    "\n",
    "PREFIX mov: <http://www.abes.fr/vocabularies/movies#>\n",
    "PREFIX wdt: <http://www.wikidata.org/prop/direct/>\n",
    "PREFIX foaf: <http://xmlns.com/foaf/0.1/>\n",
    "PREFIX rdfs: <http://www.w3.org/2000/01/rdf-schema#>\n",
    "PREFIX rdf: <http://www.w3.org/1999/02/22-rdf-syntax-ns#>\n",
    "PREFIX skos: <http://www.w3.org/2004/02/skos/core#>\n",
    "        \n",
    "SELECT DISTINCT ?etat_doctoral ?etat_label ?etab_label ?start ?end WHERE {\n",
    "    ?etat_doctoral a [ ?x mov:EtatDoctoral; rdfs:label ?etat_label];\n",
    "        mov:from [skos:prefLabel ?etab_label].\n",
    "    \n",
    "    OPTIONAL {\n",
    "        ?etat_doctoral mov:start ?start.\n",
    "    }\n",
    "    \n",
    "    OPTIONAL {\n",
    "        ?etat_doctoral mov:end ?end.\n",
    "    }\n",
    "    \n",
    "    FILTER(LANG(?etat_label) = \"en\")\n",
    "    FILTER(LANG(?etab_label) = \"fr\")\n",
    "    FILTER (?end > NOW())\n",
    "}"
   ]
  },
  {
   "cell_type": "markdown",
   "id": "6c15ea38-4d45-4e42-819b-1b17d054e7a9",
   "metadata": {
    "kernel": "sparql"
   },
   "source": [
    "### Liste des établissements qui ne sont plus habilités"
   ]
  },
  {
   "cell_type": "code",
   "execution_count": 5,
   "id": "0cf17ce5-2657-4c4c-8ccc-09b6aa9ffb42",
   "metadata": {
    "kernel": "sparql",
    "tags": []
   },
   "outputs": [
    {
     "data": {
      "text/html": [
       "<div class=\"krn-spql\"><div class=\"magic\">Param set: infer = true</div><div class=\"magic\">Param set: sameAs = false</div><div class=\"magic\">Result maximum size: 20</div></div>"
      ],
      "text/plain": [
       "Param set: infer = true\n",
       "Param set: sameAs = false\n",
       "Result maximum size: 20\n"
      ]
     },
     "metadata": {},
     "output_type": "display_data"
    },
    {
     "data": {
      "text/html": [
       "<div class=\"krn-spql\"><table><tr class=hdr><th>etat_doctoral</th>\n",
       "<th>etat_label</th>\n",
       "<th>etab_label</th>\n",
       "<th>start</th>\n",
       "<th>end</th></tr><tr class=odd><td class=val><a href=\"http://www.abes.fr/entities/etats/39f0615d482d632921b20eeb172dfe68198911a4\" target=\"_other\">http://www.abes.fr/entities/etats/39f0615d482d632921b20eeb172dfe68198911a4</a></td>\n",
       "<td class=val>Habilitation</td>\n",
       "<td class=val>Institut national des sciences et industries du vivant et de l'environnement</td>\n",
       "<td class=val>2006-12-13</td>\n",
       "<td class=val>2015-08-31</td></tr><tr class=even><td class=val><a href=\"http://www.abes.fr/entities/etats/99a58ffd966bfb4d33aca15de76517a1aee0a838\" target=\"_other\">http://www.abes.fr/entities/etats/99a58ffd966bfb4d33aca15de76517a1aee0a838</a></td>\n",
       "<td class=val>Habilitation</td>\n",
       "<td class=val>Aix-Marseille I</td>\n",
       "<td class=val>???</td>\n",
       "<td class=val>2011-12-31</td></tr><tr class=odd><td class=val><a href=\"http://www.abes.fr/entities/etats/ad6e7eba8c1f6367120899274cefda956175066e\" target=\"_other\">http://www.abes.fr/entities/etats/ad6e7eba8c1f6367120899274cefda956175066e</a></td>\n",
       "<td class=val>Habilitation</td>\n",
       "<td class=val>Université d'Aix-Marseille III</td>\n",
       "<td class=val>???</td>\n",
       "<td class=val>2011-12-31</td></tr><tr class=even><td class=val><a href=\"http://www.abes.fr/entities/etats/0b4ae3918b7a1cd0cc73760cafa0ed5eaf5e073f\" target=\"_other\">http://www.abes.fr/entities/etats/0b4ae3918b7a1cd0cc73760cafa0ed5eaf5e073f</a></td>\n",
       "<td class=val>Habilitation</td>\n",
       "<td class=val>Université de technologie de Belfort-Montbéliard</td>\n",
       "<td class=val>2000-08-21</td>\n",
       "<td class=val>2016-12-31</td></tr><tr class=odd><td class=val><a href=\"http://www.abes.fr/entities/etats/e7c8f219fafb585be292c8241ac3a2a89ebe44d9\" target=\"_other\">http://www.abes.fr/entities/etats/e7c8f219fafb585be292c8241ac3a2a89ebe44d9</a></td>\n",
       "<td class=val>Habilitation</td>\n",
       "<td class=val>Université de Besançon</td>\n",
       "<td class=val>1968-01-01</td>\n",
       "<td class=val>2016-12-31</td></tr><tr class=even><td class=val><a href=\"http://www.abes.fr/entities/etats/6872169f3f515e9d517a182be0d4df94bfcc6308\" target=\"_other\">http://www.abes.fr/entities/etats/6872169f3f515e9d517a182be0d4df94bfcc6308</a></td>\n",
       "<td class=val>Habilitation</td>\n",
       "<td class=val>Université Bordeaux-I</td>\n",
       "<td class=val>???</td>\n",
       "<td class=val>2013-12-31</td></tr><tr class=odd><td class=val><a href=\"http://www.abes.fr/entities/etats/3262afae56d4e7cdaff11fa343cbcfb3b2c3d922\" target=\"_other\">http://www.abes.fr/entities/etats/3262afae56d4e7cdaff11fa343cbcfb3b2c3d922</a></td>\n",
       "<td class=val>Habilitation</td>\n",
       "<td class=val>Université Bordeaux-II</td>\n",
       "<td class=val>???</td>\n",
       "<td class=val>2013-12-31</td></tr><tr class=even><td class=val><a href=\"http://www.abes.fr/entities/etats/900fa190254436ccd8c46adbfd56037a844dcff4\" target=\"_other\">http://www.abes.fr/entities/etats/900fa190254436ccd8c46adbfd56037a844dcff4</a></td>\n",
       "<td class=val>Habilitation</td>\n",
       "<td class=val>Université Bordeaux-IV</td>\n",
       "<td class=val>???</td>\n",
       "<td class=val>2013-12-31</td></tr><tr class=odd><td class=val><a href=\"http://www.abes.fr/entities/etats/a0c6b696936323e2ab2fa4a2208dce76a4a317e4\" target=\"_other\">http://www.abes.fr/entities/etats/a0c6b696936323e2ab2fa4a2208dce76a4a317e4</a></td>\n",
       "<td class=val>Habilitation</td>\n",
       "<td class=val>Université de Caen</td>\n",
       "<td class=val>1432-01-01</td>\n",
       "<td class=val>2016-12-31</td></tr><tr class=even><td class=val><a href=\"http://www.abes.fr/entities/etats/0096cea7247bd98f2cb891e1bf856a13e6448c86\" target=\"_other\">http://www.abes.fr/entities/etats/0096cea7247bd98f2cb891e1bf856a13e6448c86</a></td>\n",
       "<td class=val>Habilitation</td>\n",
       "<td class=val>Université de Cergy-Pontoise</td>\n",
       "<td class=val>1993-01-01</td>\n",
       "<td class=val>2019-12-31</td></tr><tr class=odd><td class=val><a href=\"http://www.abes.fr/entities/etats/4509a9aed64dd20aaf73748389cfaa8244a58550\" target=\"_other\">http://www.abes.fr/entities/etats/4509a9aed64dd20aaf73748389cfaa8244a58550</a></td>\n",
       "<td class=val>Habilitation</td>\n",
       "<td class=val>Université de Chambéry</td>\n",
       "<td class=val>1979-06-27</td>\n",
       "<td class=val>2010-10-31</td></tr><tr class=even><td class=val><a href=\"http://www.abes.fr/entities/etats/df4ba73ff5a147eced9ab18e9bc81eff09ab01d3\" target=\"_other\">http://www.abes.fr/entities/etats/df4ba73ff5a147eced9ab18e9bc81eff09ab01d3</a></td>\n",
       "<td class=val>Habilitation</td>\n",
       "<td class=val>Université Clermont-Ferrand I</td>\n",
       "<td class=val>1976-01-01</td>\n",
       "<td class=val>2016-12-31</td></tr><tr class=odd><td class=val><a href=\"http://www.abes.fr/entities/etats/126d7291ddae43a6015e6a14b077d652b66e8df4\" target=\"_other\">http://www.abes.fr/entities/etats/126d7291ddae43a6015e6a14b077d652b66e8df4</a></td>\n",
       "<td class=val>Habilitation</td>\n",
       "<td class=val>Université Clermont-Ferrand II</td>\n",
       "<td class=val>1976-01-01</td>\n",
       "<td class=val>2016-12-31</td></tr><tr class=even><td class=val><a href=\"http://www.abes.fr/entities/etats/ac5ce4b3a7f59ad2bf856a125fe031c3123b8e29\" target=\"_other\">http://www.abes.fr/entities/etats/ac5ce4b3a7f59ad2bf856a125fe031c3123b8e29</a></td>\n",
       "<td class=val>Habilitation</td>\n",
       "<td class=val>Université Clermont Auvergne</td>\n",
       "<td class=val>2017-01-01</td>\n",
       "<td class=val>2020-12-31</td></tr><tr class=odd><td class=val><a href=\"http://www.abes.fr/entities/etats/01e75e95212b6eb887057ea1fe616b56f752070e\" target=\"_other\">http://www.abes.fr/entities/etats/01e75e95212b6eb887057ea1fe616b56f752070e</a></td>\n",
       "<td class=val>Habilitation</td>\n",
       "<td class=val>École normale supérieure Paris-Saclay</td>\n",
       "<td class=val>1992-01-01</td>\n",
       "<td class=val>2015-08-31</td></tr><tr class=even><td class=val><a href=\"http://www.abes.fr/entities/etats/0f454e6c81acba507bdf499308da2860d71ca285\" target=\"_other\">http://www.abes.fr/entities/etats/0f454e6c81acba507bdf499308da2860d71ca285</a></td>\n",
       "<td class=val>Habilitation</td>\n",
       "<td class=val>Université de Dijon</td>\n",
       "<td class=val>???</td>\n",
       "<td class=val>2016-12-31</td></tr><tr class=odd><td class=val><a href=\"http://www.abes.fr/entities/etats/f2bf4086be18ae9cdfa45b5b6d2bcda75cdba6e8\" target=\"_other\">http://www.abes.fr/entities/etats/f2bf4086be18ae9cdfa45b5b6d2bcda75cdba6e8</a></td>\n",
       "<td class=val>Habilitation</td>\n",
       "<td class=val>École centrale des arts et manufactures</td>\n",
       "<td class=val>1985-06-27</td>\n",
       "<td class=val>2015-08-31</td></tr><tr class=even><td class=val><a href=\"http://www.abes.fr/entities/etats/ae32ad8899e60f195ba97605592af8b6f5c53bbc\" target=\"_other\">http://www.abes.fr/entities/etats/ae32ad8899e60f195ba97605592af8b6f5c53bbc</a></td>\n",
       "<td class=val>Habilitation</td>\n",
       "<td class=val>École centrale de Lyon</td>\n",
       "<td class=val>1985-06-27</td>\n",
       "<td class=val>2015-02-28</td></tr><tr class=odd><td class=val><a href=\"http://www.abes.fr/entities/etats/05e56a9517a82fd31356a2c221dccf2b77016825\" target=\"_other\">http://www.abes.fr/entities/etats/05e56a9517a82fd31356a2c221dccf2b77016825</a></td>\n",
       "<td class=val>Habilitation</td>\n",
       "<td class=val>École des hautes études commerciales de Paris</td>\n",
       "<td class=val>1985-06-27</td>\n",
       "<td class=val>2015-08-31</td></tr><tr class=even><td class=val><a href=\"http://www.abes.fr/entities/etats/ca8feacbf50104160f2c82f46c64a4a6dd6865cf\" target=\"_other\">http://www.abes.fr/entities/etats/ca8feacbf50104160f2c82f46c64a4a6dd6865cf</a></td>\n",
       "<td class=val>Habilitation</td>\n",
       "<td class=val>École nationale supérieure des mines de Nantes</td>\n",
       "<td class=val>2008-07-08</td>\n",
       "<td class=val>2016-12-31</td></tr></table><div class=\"tinfo\">Total: 88, Shown: 20</div></div>"
      ]
     },
     "metadata": {},
     "output_type": "display_data"
    }
   ],
   "source": [
    "%qparam infer true\n",
    "%qparam sameAs false\n",
    "%show 20\n",
    "\n",
    "PREFIX mov: <http://www.abes.fr/vocabularies/movies#>\n",
    "PREFIX wdt: <http://www.wikidata.org/prop/direct/>\n",
    "PREFIX foaf: <http://xmlns.com/foaf/0.1/>\n",
    "PREFIX rdfs: <http://www.w3.org/2000/01/rdf-schema#>\n",
    "PREFIX rdf: <http://www.w3.org/1999/02/22-rdf-syntax-ns#>\n",
    "PREFIX skos: <http://www.w3.org/2004/02/skos/core#>\n",
    "        \n",
    "SELECT DISTINCT ?etat_doctoral ?etat_label ?etab_label ?start ?end WHERE {\n",
    "    ?etat_doctoral a [ ?x mov:EtatDoctoral; rdfs:label ?etat_label];\n",
    "        mov:from [skos:prefLabel ?etab_label].\n",
    "    \n",
    "    OPTIONAL {\n",
    "        ?etat_doctoral mov:start ?start.\n",
    "    }\n",
    "    \n",
    "    OPTIONAL {\n",
    "        ?etat_doctoral mov:end ?end.\n",
    "    }\n",
    "    \n",
    "    FILTER(LANG(?etat_label) = \"en\")\n",
    "    FILTER(LANG(?etab_label) = \"fr\")\n",
    "    FILTER (?end < NOW())\n",
    "}"
   ]
  },
  {
   "cell_type": "markdown",
   "id": "84a21b25-f7ca-4fd6-8805-364891a2d7b7",
   "metadata": {
    "kernel": "sparql"
   },
   "source": [
    "### Filiation des environnements thèses\n",
    "\n",
    "* Retrouver les filiation des habilitations doctorales à partir d'un établissement. Permet de regrouper les thèses d'une institution. Par exemple celles de Grenoble Alpes (expérimental) avec celle de Grenoble Alpes (Comue) etc.\n"
   ]
  },
  {
   "cell_type": "code",
   "execution_count": 6,
   "id": "74502a2b-6d87-4c2d-b3c1-a0e010da9919",
   "metadata": {
    "kernel": "sparql"
   },
   "outputs": [
    {
     "data": {
      "text/html": [
       "<div class=\"krn-spql\"><div class=\"magic\">Param set: infer = true</div><div class=\"magic\">Param set: sameAs = true</div><div class=\"magic\">Result maximum size: 20</div></div>"
      ],
      "text/plain": [
       "Param set: infer = true\n",
       "Param set: sameAs = true\n",
       "Result maximum size: 20\n"
      ]
     },
     "metadata": {},
     "output_type": "display_data"
    },
    {
     "data": {
      "text/html": [
       "<div class=\"krn-spql\"><table><tr class=hdr><th>etab_label</th>\n",
       "<th>code_etab</th>\n",
       "<th>start</th>\n",
       "<th>end</th></tr><tr class=odd><td class=val>Université Grenoble Alpes</td>\n",
       "<td class=val>GREA</td>\n",
       "<td class=val></td>\n",
       "<td class=val></td></tr><tr class=even><td class=val>Université Grenoble I</td>\n",
       "<td class=val>GRE1</td>\n",
       "<td class=val></td>\n",
       "<td class=val></td></tr><tr class=odd><td class=val>Université Grenoble-II</td>\n",
       "<td class=val>GRE2</td>\n",
       "<td class=val></td>\n",
       "<td class=val></td></tr><tr class=even><td class=val>Université Grenoble-III</td>\n",
       "<td class=val>GRE3</td>\n",
       "<td class=val></td>\n",
       "<td class=val></td></tr><tr class=odd><td class=val>Université de Chambéry</td>\n",
       "<td class=val>CHAM</td>\n",
       "<td class=val>2010-11-01</td>\n",
       "<td class=val>2014-12-31</td></tr><tr class=even><td class=val>Université de Chambéry</td>\n",
       "<td class=val>CHAM</td>\n",
       "<td class=val>2015-01-01</td>\n",
       "<td class=val>2019-08-31</td></tr><tr class=odd><td class=val>Institut polytechnique de Grenoble</td>\n",
       "<td class=val>INPG</td>\n",
       "<td class=val>2010-11-01</td>\n",
       "<td class=val>2014-12-31</td></tr></table><div class=\"tinfo\">Total: 7, Shown: 7</div></div>"
      ]
     },
     "metadata": {},
     "output_type": "display_data"
    }
   ],
   "source": [
    "%qparam infer true\n",
    "%qparam sameAs true\n",
    "%show 20\n",
    "\n",
    "PREFIX paysage: <http://paysage.mesri.fr/structures/>\n",
    "PREFIX mov: <http://www.abes.fr/vocabularies/movies#>\n",
    "PREFIX skos: <http://www.w3.org/2004/02/skos/core#>\n",
    "PREFIX foaf: <http://xmlns.com/foaf/0.1/>\n",
    "\n",
    "select DISTINCT ?etab_label  ?code_etab ?start ?end\n",
    "\n",
    "    \n",
    "where {   \n",
    "    BIND(paysage:Y7ch7 as ?grenobleAlpes)\n",
    "    \n",
    "    ?grenobleAlpes (^mov:to/mov:from|^mov:from/mov:to)+ [?x ?etab; skos:prefLabel ?etab_label].\n",
    "    \n",
    "    \n",
    "    ?etat a mov:Existence;\n",
    "          mov:from ?etab.\n",
    "    \n",
    "    ?etab mov:codeEtabid ?code_etab.\n",
    "    \n",
    "    OPTIONAL {\n",
    "        ?delegation a mov:Delegation;\n",
    "            mov:from ?etab;\n",
    "            mov:start ?start.\n",
    "        \n",
    "        OPTIONAL {\n",
    "            ?delegation mov:end ?end.\n",
    "        }\n",
    "    }\n",
    "    \n",
    "    FILTER(LANG(?etab_label) = \"fr\")\n",
    "}"
   ]
  },
  {
   "cell_type": "code",
   "execution_count": 7,
   "id": "75c30db8-4cdc-4f42-937d-7d077f444144",
   "metadata": {
    "kernel": "sparql"
   },
   "outputs": [
    {
     "data": {
      "text/html": [
       "<div class=\"krn-spql\"><div class=\"magic\">Param set: infer = true</div><div class=\"magic\">Param set: sameAs = true</div><div class=\"magic\">Result maximum size: 20</div></div>"
      ],
      "text/plain": [
       "Param set: infer = true\n",
       "Param set: sameAs = true\n",
       "Result maximum size: 20\n"
      ]
     },
     "metadata": {},
     "output_type": "display_data"
    },
    {
     "data": {
      "text/html": [
       "<div class=\"krn-spql\"><table><tr class=hdr><th>etab_label</th>\n",
       "<th>code_etab</th>\n",
       "<th>start</th>\n",
       "<th>end</th></tr><tr class=odd><td class=val>Institut national des sciences et industries du vivant et de l'environnement</td>\n",
       "<td class=val>AGPT</td>\n",
       "<td class=val>2015-09-01</td>\n",
       "<td class=val>2019-12-31</td></tr><tr class=even><td class=val>Institut national des sciences et industries du vivant et de l'environnement</td>\n",
       "<td class=val>AGPT</td>\n",
       "<td class=val>2020-01-01</td>\n",
       "<td class=val>9999-12-31</td></tr><tr class=odd><td class=val>École normale supérieure Paris-Saclay</td>\n",
       "<td class=val>DENS</td>\n",
       "<td class=val>2015-09-01</td>\n",
       "<td class=val>9999-12-31</td></tr><tr class=even><td class=val>École centrale des arts et manufactures</td>\n",
       "<td class=val>ECAP</td>\n",
       "<td class=val>2015-09-01</td>\n",
       "<td class=val>9999-12-31</td></tr><tr class=odd><td class=val>École des hautes études commerciales de Paris</td>\n",
       "<td class=val>EHEC</td>\n",
       "<td class=val>2015-09-01</td>\n",
       "<td class=val>2019-08-31</td></tr><tr class=even><td class=val>École supérieure de télégraphie, École nationale supérieure des télécommunications (ENST)</td>\n",
       "<td class=val>ENST</td>\n",
       "<td class=val>2015-09-01</td>\n",
       "<td class=val>2019-08-31</td></tr><tr class=odd><td class=val>École supérieure de télégraphie, École nationale supérieure des télécommunications (ENST)</td>\n",
       "<td class=val>ENST</td>\n",
       "<td class=val>2019-09-01</td>\n",
       "<td class=val>9999-12-31</td></tr><tr class=even><td class=val>École polytechnique</td>\n",
       "<td class=val>EPXX</td>\n",
       "<td class=val>2015-09-01</td>\n",
       "<td class=val>2019-08-31</td></tr><tr class=odd><td class=val>École polytechnique</td>\n",
       "<td class=val>EPXX</td>\n",
       "<td class=val>2019-09-01</td>\n",
       "<td class=val>9999-12-31</td></tr><tr class=even><td class=val>École nationale supérieure de techniques avancées</td>\n",
       "<td class=val>ESTA</td>\n",
       "<td class=val>2015-09-01</td>\n",
       "<td class=val>2019-08-31</td></tr><tr class=odd><td class=val>École nationale supérieure de techniques avancées</td>\n",
       "<td class=val>ESTA</td>\n",
       "<td class=val>2019-09-01</td>\n",
       "<td class=val>9999-12-31</td></tr><tr class=even><td class=val>Université d'Évry-Val d'Essonne</td>\n",
       "<td class=val>EVRY</td>\n",
       "<td class=val>2015-09-01</td>\n",
       "<td class=val>9999-12-31</td></tr><tr class=odd><td class=val>Institut d'optique théorique et appliquée</td>\n",
       "<td class=val>IOTA</td>\n",
       "<td class=val>2015-09-01</td>\n",
       "<td class=val>9999-12-31</td></tr><tr class=even><td class=val>université Paris-XI</td>\n",
       "<td class=val>PA11</td>\n",
       "<td class=val>2015-09-01</td>\n",
       "<td class=val>2019-12-31</td></tr><tr class=odd><td class=val>Université de Versailles-Saint-Quentin-en-Yvelines</td>\n",
       "<td class=val>VERS</td>\n",
       "<td class=val>2015-09-01</td>\n",
       "<td class=val>2019-12-31</td></tr><tr class=even><td class=val>Université Paris-Saclay</td>\n",
       "<td class=val>UPAS</td>\n",
       "<td class=val></td>\n",
       "<td class=val></td></tr><tr class=odd><td class=val>Université Paris-Saclay</td>\n",
       "<td class=val>SACL</td>\n",
       "<td class=val></td>\n",
       "<td class=val></td></tr><tr class=even><td class=val>CentraleSupélec</td>\n",
       "<td class=val>CSUP</td>\n",
       "<td class=val></td>\n",
       "<td class=val></td></tr><tr class=odd><td class=val>Institut polytechnique de Paris</td>\n",
       "<td class=val>IPPA</td>\n",
       "<td class=val></td>\n",
       "<td class=val></td></tr></table><div class=\"tinfo\">Total: 19, Shown: 19</div></div>"
      ]
     },
     "metadata": {},
     "output_type": "display_data"
    }
   ],
   "source": [
    "%qparam infer true\n",
    "%qparam sameAs true\n",
    "%show 20\n",
    "\n",
    "PREFIX paysage: <http://paysage.mesri.fr/structures/>\n",
    "PREFIX mov: <http://www.abes.fr/vocabularies/movies#>\n",
    "PREFIX skos: <http://www.w3.org/2004/02/skos/core#>\n",
    "PREFIX foaf: <http://xmlns.com/foaf/0.1/>\n",
    "\n",
    "select DISTINCT ?etab_label  ?code_etab ?start ?end\n",
    "\n",
    "    \n",
    "where {   \n",
    "    BIND(paysage:dV766 as ?saclay)\n",
    "    \n",
    "    ?saclay (^mov:to/mov:from|^mov:from/mov:to)+ [?x ?etab; skos:prefLabel ?etab_label].\n",
    "    \n",
    "    ?etat a mov:Existence;\n",
    "          mov:from ?etab.\n",
    "    \n",
    "    ?etab mov:codeEtabid ?code_etab.\n",
    "    \n",
    "    OPTIONAL {\n",
    "        ?delegation a mov:Delegation;\n",
    "            mov:from ?etab;\n",
    "            mov:start ?start.\n",
    "        \n",
    "        OPTIONAL {\n",
    "            ?delegation mov:end ?end.\n",
    "        }\n",
    "    }\n",
    "    \n",
    "    FILTER(LANG(?etab_label) = \"fr\")\n",
    "}"
   ]
  },
  {
   "cell_type": "markdown",
   "id": "9024674d-5d92-45ed-81ae-9a2a18b459a9",
   "metadata": {
    "kernel": "SoS",
    "tags": []
   },
   "source": [
    "## Contrôle qualité des données"
   ]
  },
  {
   "cell_type": "markdown",
   "id": "e94132dd-dcd5-4a4b-8ac9-6613e03b4057",
   "metadata": {
    "kernel": "sparql"
   },
   "source": [
    "### Validité des identifiants (PPN)"
   ]
  },
  {
   "cell_type": "code",
   "execution_count": 8,
   "id": "3dfb1cd6-f5cb-40f8-bf10-e44b66c98c63",
   "metadata": {
    "kernel": "sparql",
    "tags": []
   },
   "outputs": [
    {
     "data": {
      "text/html": [
       "<div class=\"krn-spql\"><table><tr class=hdr><th>ppn</th></tr></table><div class=\"tinfo\">Total: 0, Shown: 0</div></div>"
      ]
     },
     "metadata": {},
     "output_type": "display_data"
    }
   ],
   "source": [
    "PREFIX foaf: <http://xmlns.com/foaf/0.1/>\n",
    "\n",
    "select * where { \n",
    "    ?ppn a foaf:Organization.\n",
    "    \n",
    "    FILTER (STRSTARTS(str(?ppn), \"http://www.abes.fr/entities/organizations/ppn\")) \n",
    "    FILTER (!regex(STR(?ppn), '/\\\\d{8}(\\\\d|X)', \"i\"))\n",
    "}"
   ]
  },
  {
   "cell_type": "markdown",
   "id": "3285c021-5cd7-46ff-9a62-0e572393aae6",
   "metadata": {
    "kernel": "sparql"
   },
   "source": [
    "### Validité des habilitations\n",
    "\n",
    "* Seuls les établissements ayant une personnalité juridique peuvent délivrer le doctorat (que se passe-t-il s'ils changent de personnalité, cela implique-t-il une nouvelle habilitation ?)\n",
    "* Les habilitations ne peuvent pas être antérieures ou postérieures à l'existence de l'établissement"
   ]
  },
  {
   "cell_type": "code",
   "execution_count": 14,
   "id": "1397d433",
   "metadata": {
    "kernel": "sparql",
    "tags": []
   },
   "outputs": [
    {
     "data": {
      "text/html": [
       "<div class=\"krn-spql\"><div class=\"magic\">Param set: infer = true</div><div class=\"magic\">Param set: sameAs = false</div><div class=\"magic\">Result maximum size: 20</div></div>"
      ],
      "text/plain": [
       "Param set: infer = true\n",
       "Param set: sameAs = false\n",
       "Result maximum size: 20\n"
      ]
     },
     "metadata": {},
     "output_type": "display_data"
    },
    {
     "data": {
      "text/html": [
       "<div class=\"krn-spql\"><table><tr class=hdr><th>codeEtab</th>\n",
       "<th>habilitation</th>\n",
       "<th>formeJuridique</th>\n",
       "<th>startHabilitation</th>\n",
       "<th>inception</th>\n",
       "<th>endHabilitation</th>\n",
       "<th>destruction</th>\n",
       "<th>diagnostic</th></tr><tr class=odd><td class=val>EMAC</td>\n",
       "<td class=val></td>\n",
       "<td class=val>Sans personnalité juridique</td>\n",
       "<td class=val></td>\n",
       "<td class=val></td>\n",
       "<td class=val></td>\n",
       "<td class=val></td>\n",
       "<td class=val>Forme juridique invalide</td></tr><tr class=even><td class=val>EMAL</td>\n",
       "<td class=val></td>\n",
       "<td class=val>Sans personnalité juridique</td>\n",
       "<td class=val></td>\n",
       "<td class=val></td>\n",
       "<td class=val></td>\n",
       "<td class=val></td>\n",
       "<td class=val>Forme juridique invalide</td></tr><tr class=odd><td class=val>EMSE</td>\n",
       "<td class=val></td>\n",
       "<td class=val>Sans personnalité juridique</td>\n",
       "<td class=val></td>\n",
       "<td class=val></td>\n",
       "<td class=val></td>\n",
       "<td class=val></td>\n",
       "<td class=val>Forme juridique invalide</td></tr><tr class=even><td class=val>ENIS</td>\n",
       "<td class=val></td>\n",
       "<td class=val>Sans personnalité juridique</td>\n",
       "<td class=val></td>\n",
       "<td class=val></td>\n",
       "<td class=val></td>\n",
       "<td class=val></td>\n",
       "<td class=val>Forme juridique invalide</td></tr><tr class=odd><td class=val>ENST</td>\n",
       "<td class=val></td>\n",
       "<td class=val>Sans personnalité juridique</td>\n",
       "<td class=val></td>\n",
       "<td class=val></td>\n",
       "<td class=val></td>\n",
       "<td class=val></td>\n",
       "<td class=val>Forme juridique invalide</td></tr><tr class=even><td class=val>IMTA</td>\n",
       "<td class=val></td>\n",
       "<td class=val>Sans personnalité juridique</td>\n",
       "<td class=val></td>\n",
       "<td class=val></td>\n",
       "<td class=val></td>\n",
       "<td class=val></td>\n",
       "<td class=val>Forme juridique invalide</td></tr><tr class=odd><td class=val>INPL</td>\n",
       "<td class=val></td>\n",
       "<td class=val>Sans personnalité juridique</td>\n",
       "<td class=val></td>\n",
       "<td class=val></td>\n",
       "<td class=val></td>\n",
       "<td class=val></td>\n",
       "<td class=val>Forme juridique invalide</td></tr><tr class=even><td class=val>NSAM</td>\n",
       "<td class=val></td>\n",
       "<td class=val>Sans personnalité juridique</td>\n",
       "<td class=val></td>\n",
       "<td class=val></td>\n",
       "<td class=val></td>\n",
       "<td class=val></td>\n",
       "<td class=val>Forme juridique invalide</td></tr><tr class=odd><td class=val>TELB</td>\n",
       "<td class=val></td>\n",
       "<td class=val>Sans personnalité juridique</td>\n",
       "<td class=val></td>\n",
       "<td class=val></td>\n",
       "<td class=val></td>\n",
       "<td class=val></td>\n",
       "<td class=val>Forme juridique invalide</td></tr></table><div class=\"tinfo\">Total: 9, Shown: 9</div></div>"
      ]
     },
     "metadata": {},
     "output_type": "display_data"
    }
   ],
   "source": [
    "%qparam infer true\n",
    "%qparam sameAs false\n",
    "%show 20\n",
    "\n",
    "PREFIX mov: <http://www.abes.fr/vocabularies/movies#>\n",
    "PREFIX wdt: <http://www.wikidata.org/prop/direct/>\n",
    "PREFIX foaf: <http://xmlns.com/foaf/0.1/>\n",
    "\n",
    "SELECT ?codeEtab ?habilitation ?formeJuridique ?startHabilitation ?inception ?endHabilitation ?destruction ?diagnostic WHERE {\n",
    "    {\n",
    "        # On récupère les organisations qui sont ou on été habilités (c'est à dire qui ont un code établissement `?codeEtab`) ainsi que leur forme juridique.\n",
    "        ?org a foaf:Organization;\n",
    "             mov:codeEtabid ?codeEtab;\n",
    "             wdt:P1454 ?formeJuridique.\n",
    "        \n",
    "        # On filtre les établissements qui ont explicitement une absence de personnalité juridique : `Sans personnalité juridique`.\n",
    "        FILTER(?formeJuridique = \"Sans personnalité juridique\"@fr)\n",
    "        \n",
    "        # On assigne à la variable `?diagnostic` le contenu du message de diagnostic.\n",
    "        BIND(\"Forme juridique invalide\"@fr as ?diagnostic)\n",
    "    } UNION {\n",
    "        ?habilitation a mov:EtatDoctoral;\n",
    "            mov:start ?startHabilitation.\n",
    "        \n",
    "        \n",
    "        \n",
    "\n",
    "        OPTIONAL {\n",
    "            ?habilitation mov:end ?endHabilitation.\n",
    "        }\n",
    "        \n",
    "        ?org mov:codeEtabid ?codeEtab.\n",
    "        \n",
    "        ?existence a mov:Existence;\n",
    "        \n",
    "\n",
    "                mov:from ?org.\n",
    "\n",
    "\n",
    "        ?existence mov:start ?creation_etab.\n",
    "\n",
    "        OPTIONAL {\n",
    "            ?existence mov:end ?supression_etab.\n",
    "        }\n",
    "        \n",
    "        # On filtre les établissement pour lesquels :\n",
    "        # les dates d'habilitation dépassent les date d'existence\n",
    "        # la fin de l'habilitation antérieur au début de l'habilitation\n",
    "        FILTER(?startHabilitation < ?inception || ?endHabilitation > ?destruction || ?endHabilitation < ?startHabilitation)\n",
    "        BIND(\"Dates d'habilitation invalides\"@fr as ?diagnostic)\n",
    "    }\n",
    "}"
   ]
  },
  {
   "cell_type": "markdown",
   "id": "35608d2b-ff5c-4f39-9607-28736129834f",
   "metadata": {
    "kernel": "sparql"
   },
   "source": [
    "### Établissements non liés à Paysage"
   ]
  },
  {
   "cell_type": "code",
   "execution_count": 10,
   "id": "9b9e467e-73a9-4e8a-ab0f-b43f5bc6fcbf",
   "metadata": {
    "kernel": "sparql",
    "tags": []
   },
   "outputs": [
    {
     "data": {
      "text/html": [
       "<div class=\"krn-spql\"><div class=\"magic\">Param set: infer = false</div><div class=\"magic\">Param set: sameAs = false</div><div class=\"magic\">Result maximum size: 20</div></div>"
      ],
      "text/plain": [
       "Param set: infer = false\n",
       "Param set: sameAs = false\n",
       "Result maximum size: 20\n"
      ]
     },
     "metadata": {},
     "output_type": "display_data"
    },
    {
     "data": {
      "text/html": [
       "<div class=\"krn-spql\"><table><tr class=hdr><th>org_abes</th>\n",
       "<th>name</th></tr><tr class=odd><td class=val><a href=\"http://www.abes.fr/entities/organizations/ppn/026402882\" target=\"_other\">http://www.abes.fr/entities/organizations/ppn/026402882</a></td>\n",
       "<td class=val>Aix-Marseille 2</td></tr><tr class=even><td class=val><a href=\"http://www.abes.fr/entities/organizations/ppn/028968832\" target=\"_other\">http://www.abes.fr/entities/organizations/ppn/028968832</a></td>\n",
       "<td class=val>Alger (Période coloniale)</td></tr><tr class=odd><td class=val><a href=\"http://www.abes.fr/entities/organizations/ppn/030142199\" target=\"_other\">http://www.abes.fr/entities/organizations/ppn/030142199</a></td>\n",
       "<td class=val>Bordeaux (1441-1970)</td></tr><tr class=even><td class=val><a href=\"http://www.abes.fr/entities/organizations/ppn/030142865\" target=\"_other\">http://www.abes.fr/entities/organizations/ppn/030142865</a></td>\n",
       "<td class=val>Clermont-Ferrand</td></tr><tr class=odd><td class=val><a href=\"http://www.abes.fr/entities/organizations/ppn/034751386\" target=\"_other\">http://www.abes.fr/entities/organizations/ppn/034751386</a></td>\n",
       "<td class=val>Ecole nationale supérieure des industries alimentaires - Massy</td></tr><tr class=even><td class=val><a href=\"http://www.abes.fr/entities/organizations/ppn/030937809\" target=\"_other\">http://www.abes.fr/entities/organizations/ppn/030937809</a></td>\n",
       "<td class=val>Ecole des Mines de Douai</td></tr><tr class=odd><td class=val><a href=\"http://www.abes.fr/entities/organizations/ppn/026436930\" target=\"_other\">http://www.abes.fr/entities/organizations/ppn/026436930</a></td>\n",
       "<td class=val>Ecole nationale du génie rural, des eaux et forêts</td></tr><tr class=even><td class=val><a href=\"http://www.abes.fr/entities/organizations/ppn/026523477\" target=\"_other\">http://www.abes.fr/entities/organizations/ppn/026523477</a></td>\n",
       "<td class=val>Ecole nationale supérieure d'agronomie de Montpellier</td></tr><tr class=odd><td class=val><a href=\"http://www.abes.fr/entities/organizations/ppn/029884942\" target=\"_other\">http://www.abes.fr/entities/organizations/ppn/029884942</a></td>\n",
       "<td class=val>Faculté de droit et sciences économiques de Grenoble</td></tr><tr class=even><td class=val><a href=\"http://www.abes.fr/entities/organizations/ppn/072323965\" target=\"_other\">http://www.abes.fr/entities/organizations/ppn/072323965</a></td>\n",
       "<td class=val>Faculté des lettres et sciences humaines de Grenoble</td></tr><tr class=odd><td class=val><a href=\"http://www.abes.fr/entities/organizations/ppn/030327202\" target=\"_other\">http://www.abes.fr/entities/organizations/ppn/030327202</a></td>\n",
       "<td class=val>Grenoble PRES</td></tr><tr class=even><td class=val><a href=\"http://www.abes.fr/entities/organizations/ppn/155569678\" target=\"_other\">http://www.abes.fr/entities/organizations/ppn/155569678</a></td>\n",
       "<td class=val>Faculté de droit de Grenoble</td></tr><tr class=odd><td class=val><a href=\"http://www.abes.fr/entities/organizations/ppn/155078771\" target=\"_other\">http://www.abes.fr/entities/organizations/ppn/155078771</a></td>\n",
       "<td class=val>Faculté de Lettres de Grenoble</td></tr><tr class=even><td class=val><a href=\"http://www.abes.fr/entities/organizations/ppn/026387859\" target=\"_other\">http://www.abes.fr/entities/organizations/ppn/026387859</a></td>\n",
       "<td class=val>Institut national d'agronomie - Paris Grignon</td></tr><tr class=odd><td class=val><a href=\"http://www.abes.fr/entities/organizations/ppn/034124098\" target=\"_other\">http://www.abes.fr/entities/organizations/ppn/034124098</a></td>\n",
       "<td class=val>Faculté des sciences de Lille</td></tr><tr class=even><td class=val><a href=\"http://www.abes.fr/entities/organizations/ppn/027291340\" target=\"_other\">http://www.abes.fr/entities/organizations/ppn/027291340</a></td>\n",
       "<td class=val>Université de Lille</td></tr><tr class=odd><td class=val><a href=\"http://www.abes.fr/entities/organizations/ppn/169816079\" target=\"_other\">http://www.abes.fr/entities/organizations/ppn/169816079</a></td>\n",
       "<td class=val>Faculté de médecine et de pharmacie de Lyon</td></tr><tr class=even><td class=val><a href=\"http://www.abes.fr/entities/organizations/ppn/169815714\" target=\"_other\">http://www.abes.fr/entities/organizations/ppn/169815714</a></td>\n",
       "<td class=val>Faculté de sciences de Lyon</td></tr><tr class=odd><td class=val><a href=\"http://www.abes.fr/entities/organizations/ppn/169855392\" target=\"_other\">http://www.abes.fr/entities/organizations/ppn/169855392</a></td>\n",
       "<td class=val>Ecole préparatoire de médecine et pharmacie de Lyon</td></tr><tr class=even><td class=val><a href=\"http://www.abes.fr/entities/organizations/ppn/028025261\" target=\"_other\">http://www.abes.fr/entities/organizations/ppn/028025261</a></td>\n",
       "<td class=val>Université de Lyon (1896-1969)</td></tr></table><div class=\"tinfo\">Total: 35, Shown: 20</div></div>"
      ]
     },
     "metadata": {},
     "output_type": "display_data"
    }
   ],
   "source": [
    "%qparam infer false\n",
    "%qparam sameAs false\n",
    "%show 20\n",
    "\n",
    "PREFIX mov: <http://www.abes.fr/vocabularies/movies#>\n",
    "PREFIX foaf: <http://xmlns.com/foaf/0.1/>\n",
    "PREFIX owl: <http://www.w3.org/2002/07/owl#>\n",
    "\n",
    "SELECT ?org_abes ?name WHERE {\n",
    "    ?org_abes a foaf:Organization;\n",
    "        foaf:name ?name.\n",
    "    \n",
    "    FILTER (STRSTARTS(str(?org_abes), \"http://www.abes.fr/entities/organizations/ppn\"))\n",
    "    \n",
    "    MINUS { \n",
    "        ?org_paysage (^owl:sameAs|owl:sameAs) ?org_abes .\n",
    "        FILTER (STRSTARTS(str(?org_paysage), \"http://paysage.mesri.fr/structures/\"))\n",
    "    }\n",
    "    \n",
    "    OPTIONAL {\n",
    "        ?org_abes (^owl:sameAs|owl:sameAs) ?relation.    \n",
    "    }\n",
    "}"
   ]
  },
  {
   "cell_type": "markdown",
   "id": "b2690226-84dd-4e0c-b058-365202cd26c6",
   "metadata": {
    "kernel": "sparql"
   },
   "source": [
    "### États et existences incompatibles\n",
    "\n",
    "Les états sont considérés comme invalides s'ils débutent avant la période d'existence de l'établissement ou s'ils cessent après cette période (à l'exception les états de succession)."
   ]
  },
  {
   "cell_type": "code",
   "execution_count": 11,
   "id": "4bb767d7-ba3b-4cf7-ad9e-b9d5b5658258",
   "metadata": {
    "kernel": "sparql"
   },
   "outputs": [
    {
     "data": {
      "text/html": [
       "<div class=\"krn-spql\"><div class=\"magic\">Param set: infer = true</div><div class=\"magic\">Param set: sameAs = false</div><div class=\"magic\">Result maximum size: 20</div></div>"
      ],
      "text/plain": [
       "Param set: infer = true\n",
       "Param set: sameAs = false\n",
       "Result maximum size: 20\n"
      ]
     },
     "metadata": {},
     "output_type": "display_data"
    },
    {
     "data": {
      "text/html": [
       "<div class=\"krn-spql\"><table><tr class=hdr><th>state</th>\n",
       "<th>existence</th>\n",
       "<th>state_start</th>\n",
       "<th>state_end</th>\n",
       "<th>existence_start</th>\n",
       "<th>existence_end</th>\n",
       "<th>diagnostic</th></tr></table><div class=\"tinfo\">Total: 0, Shown: 0</div></div>"
      ]
     },
     "metadata": {},
     "output_type": "display_data"
    }
   ],
   "source": [
    "%qparam infer true\n",
    "%qparam sameAs false\n",
    "%show 20\n",
    "\n",
    "PREFIX mov: <http://www.abes.fr/vocabularies/movies#>\n",
    "PREFIX foaf: <http://xmlns.com/foaf/0.1/>\n",
    "PREFIX xsd: <http://www.w3.org/2001/XMLSchema#>\n",
    "\n",
    "SELECT DISTINCT ?state ?existence ?state_start ?state_end ?existence_start ?existence_end ?diagnostic WHERE {\n",
    "    ?existence a <http://www.abes.fr/entities/etats>;\n",
    "        mov:from ?from;\n",
    "        mov:statetype \"existence\";\n",
    "        mov:start ?existence_start.\n",
    "    \n",
    "    OPTIONAL {\n",
    "        ?existence mov:end ?e_end.\n",
    "    }\n",
    "    \n",
    "    OPTIONAL {\n",
    "        ?state a <http://www.abes.fr/entities/etats>;\n",
    "           mov:from ?from;\n",
    "           mov:start ?state_start;\n",
    "           mov:statetype ?state_type.\n",
    "        \n",
    "        OPTIONAL {\n",
    "            ?state mov:end ?s_end.\n",
    "        }\n",
    "    }\n",
    "    \n",
    "    FILTER(?state_type NOT IN (\"existence\", \"succession\"))\n",
    "    \n",
    "    BIND (IF(!BOUND(?s_end), \"9999-12-31\"^^xsd:date, ?s_end )  AS ?state_end)\n",
    "    BIND (IF(!BOUND(?e_end), \"9999-12-31\"^^xsd:date, ?e_end )  AS ?existence_end)\n",
    "    \n",
    "    BIND( IF(?state_start < ?existence_start && ?state_end > ?existence_end, \"?state_start < ?existence_start && ?s_end > ?e_end\", BNODE()) AS ?diagnostic)\n",
    "    BIND( IF(?state_start < ?existence_start, \"l'état débute avant l'existence\", BNODE()) AS ?diagnostic)\n",
    "    BIND( IF(?state_end > ?existence_end, \"l'état termine après l'existence\", BNODE()) AS ?diagnostic)\n",
    "\n",
    "    FILTER(!ISBLANK(?diagnostic))\n",
    "}"
   ]
  },
  {
   "cell_type": "markdown",
   "id": "669c3cdb-76a6-4013-8dc7-7715d4b8fb1f",
   "metadata": {
    "kernel": "sparql"
   },
   "source": [
    "## Enrichissement des données"
   ]
  },
  {
   "cell_type": "markdown",
   "id": "b8a7abc6-1ef4-4e2c-bcb2-39af0a746922",
   "metadata": {
    "kernel": "sparql",
    "tags": []
   },
   "source": [
    "### Candidats enrichissement des données ABES/Paysage\n",
    "On recherche les candidats non liés par leur nom (foaf:name|skos:prefLabel|skos:altLabel)"
   ]
  },
  {
   "cell_type": "code",
   "execution_count": 12,
   "id": "d79577a1-a8bd-4ae0-a6cd-dfc13f9c6849",
   "metadata": {
    "kernel": "sparql",
    "tags": []
   },
   "outputs": [
    {
     "data": {
      "text/html": [
       "<div class=\"krn-spql\"><div class=\"magic\">Param set: infer = false</div><div class=\"magic\">Param set: sameAs = false</div></div>"
      ],
      "text/plain": [
       "Param set: infer = false\n",
       "Param set: sameAs = false\n"
      ]
     },
     "metadata": {},
     "output_type": "display_data"
    },
    {
     "data": {
      "text/html": [
       "<div class=\"krn-spql\"><table><tr class=hdr><th>org_abes</th>\n",
       "<th>name</th>\n",
       "<th>org_paysage</th>\n",
       "<th>candidat_paysage</th></tr><tr class=odd><td class=val><a href=\"http://www.abes.fr/entities/organizations/ppn/027291340\" target=\"_other\">http://www.abes.fr/entities/organizations/ppn/027291340</a></td>\n",
       "<td class=val>Université de Lille</td>\n",
       "<td class=val></td>\n",
       "<td class=val><a href=\"http://paysage.mesri.fr/structures/Szqy5\" target=\"_other\">http://paysage.mesri.fr/structures/Szqy5</a></td></tr><tr class=even><td class=val><a href=\"http://www.abes.fr/entities/organizations/ppn/027291340\" target=\"_other\">http://www.abes.fr/entities/organizations/ppn/027291340</a></td>\n",
       "<td class=val>Université de Lille</td>\n",
       "<td class=val></td>\n",
       "<td class=val><a href=\"http://paysage.mesri.fr/structures/Szqy5\" target=\"_other\">http://paysage.mesri.fr/structures/Szqy5</a></td></tr><tr class=odd><td class=val><a href=\"http://www.abes.fr/entities/organizations/ppn/027291340\" target=\"_other\">http://www.abes.fr/entities/organizations/ppn/027291340</a></td>\n",
       "<td class=val>Université de Lille</td>\n",
       "<td class=val></td>\n",
       "<td class=val><a href=\"http://paysage.mesri.fr/structures/Szqy5\" target=\"_other\">http://paysage.mesri.fr/structures/Szqy5</a></td></tr><tr class=even><td class=val><a href=\"http://www.abes.fr/entities/organizations/ppn/236453505\" target=\"_other\">http://www.abes.fr/entities/organizations/ppn/236453505</a></td>\n",
       "<td class=val>Université de Paris</td>\n",
       "<td class=val></td>\n",
       "<td class=val><a href=\"http://paysage.mesri.fr/structures/5cZyU\" target=\"_other\">http://paysage.mesri.fr/structures/5cZyU</a></td></tr><tr class=odd><td class=val><a href=\"http://www.abes.fr/entities/organizations/ppn/236453505\" target=\"_other\">http://www.abes.fr/entities/organizations/ppn/236453505</a></td>\n",
       "<td class=val>Université de Paris</td>\n",
       "<td class=val></td>\n",
       "<td class=val><a href=\"http://paysage.mesri.fr/structures/kyS9n\" target=\"_other\">http://paysage.mesri.fr/structures/kyS9n</a></td></tr><tr class=even><td class=val><a href=\"http://www.abes.fr/entities/organizations/ppn/236453505\" target=\"_other\">http://www.abes.fr/entities/organizations/ppn/236453505</a></td>\n",
       "<td class=val>Université de Paris</td>\n",
       "<td class=val></td>\n",
       "<td class=val><a href=\"http://paysage.mesri.fr/structures/5cZyU\" target=\"_other\">http://paysage.mesri.fr/structures/5cZyU</a></td></tr><tr class=odd><td class=val><a href=\"http://www.abes.fr/entities/organizations/ppn/236453505\" target=\"_other\">http://www.abes.fr/entities/organizations/ppn/236453505</a></td>\n",
       "<td class=val>Université de Paris</td>\n",
       "<td class=val></td>\n",
       "<td class=val><a href=\"http://paysage.mesri.fr/structures/kyS9n\" target=\"_other\">http://paysage.mesri.fr/structures/kyS9n</a></td></tr><tr class=even><td class=val><a href=\"http://www.abes.fr/entities/organizations/ppn/236453505\" target=\"_other\">http://www.abes.fr/entities/organizations/ppn/236453505</a></td>\n",
       "<td class=val>Université de Paris</td>\n",
       "<td class=val></td>\n",
       "<td class=val><a href=\"http://paysage.mesri.fr/structures/5cZyU\" target=\"_other\">http://paysage.mesri.fr/structures/5cZyU</a></td></tr><tr class=odd><td class=val><a href=\"http://www.abes.fr/entities/organizations/ppn/236453505\" target=\"_other\">http://www.abes.fr/entities/organizations/ppn/236453505</a></td>\n",
       "<td class=val>Université de Paris</td>\n",
       "<td class=val></td>\n",
       "<td class=val><a href=\"http://paysage.mesri.fr/structures/kyS9n\" target=\"_other\">http://paysage.mesri.fr/structures/kyS9n</a></td></tr></table><div class=\"tinfo\">Total: 9, Shown: 9</div></div>"
      ]
     },
     "metadata": {},
     "output_type": "display_data"
    }
   ],
   "source": [
    "%qparam infer false\n",
    "%qparam sameAs false\n",
    "\n",
    "PREFIX mov: <http://www.abes.fr/vocabularies/movies#>\n",
    "PREFIX foaf: <http://xmlns.com/foaf/0.1/>\n",
    "PREFIX owl: <http://www.w3.org/2002/07/owl#>\n",
    "PREFIX skos: <http://www.w3.org/2004/02/skos/core#>\n",
    "\n",
    "SELECT * WHERE {\n",
    "    ?org_abes a foaf:Organization;\n",
    "        foaf:name ?name.\n",
    "    \n",
    "    FILTER (STRSTARTS(str(?org_abes), \"http://www.abes.fr/entities/organizations/ppn\"))\n",
    "    \n",
    "    MINUS { \n",
    "        ?org_paysage (^owl:sameAs|owl:sameAs) ?org_abes .\n",
    "        FILTER (STRSTARTS(str(?org_paysage), \"http://paysage.mesri.fr/structures/\"))\n",
    "    }\n",
    "    \n",
    "    ?candidat_paysage (foaf:name|skos:prefLabel|skos:altLabel) ?name.\n",
    "    FILTER (STRSTARTS(str(?candidat_paysage), \"http://paysage.mesri.fr/structures/\"))\n",
    "}"
   ]
  },
  {
   "cell_type": "markdown",
   "id": "878dc860-ebe6-48fa-a5b3-17d7a6a4f11c",
   "metadata": {
    "kernel": "sparql",
    "tags": []
   },
   "source": [
    "## Ontologies\n",
    "\n",
    "<center>\n",
    "    <figure>\n",
    "        <img src=\"movies_ontology_v1.svg\">\n",
    "        <figcaption>Ontologie movies v1</figcaption>\n",
    "    </figure>\n",
    "</center>\n",
    "\n",
    "<center>\n",
    "    <figure>\n",
    "        <img src=\"movies_ontology_v2.svg\">\n",
    "        <figcaption>Ontologie movies v2</figcaption>\n",
    "    </figure>\n",
    "</center>\n",
    "\n"
   ]
  }
 ],
 "metadata": {
  "kernelspec": {
   "display_name": "SoS",
   "language": "sos",
   "name": "sos"
  },
  "language_info": {
   "codemirror_mode": "sos",
   "file_extension": ".sos",
   "mimetype": "text/x-sos",
   "name": "sos",
   "nbconvert_exporter": "sos_notebook.converter.SoS_Exporter",
   "pygments_lexer": "sos"
  },
  "sos": {
   "kernels": [
    [
     "SoS",
     "sos",
     "",
     "",
     "sos"
    ],
    [
     "sparql",
     "sparql",
     "sparql",
     "",
     {
      "name": "sparql"
     }
    ]
   ],
   "version": "0.20.1"
  },
  "toc-autonumbering": true,
  "toc-showcode": false,
  "toc-showmarkdowntxt": false,
  "toc-showtags": true
 },
 "nbformat": 4,
 "nbformat_minor": 5
}
