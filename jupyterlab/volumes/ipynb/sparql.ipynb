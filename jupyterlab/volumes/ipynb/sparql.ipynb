{
 "cells": [
  {
   "cell_type": "code",
   "execution_count": 2,
   "id": "58088204",
   "metadata": {
    "kernel": "SPARQL",
    "slideshow": {
     "slide_type": "skip"
    },
    "tags": [
     "config"
    ]
   },
   "outputs": [
    {
     "data": {
      "text/html": [
       "<div class=\"krn-spql\"><div class=\"magic\">Endpoint set to: http://labo-vm-2.v202.abes.fr:7200/repositories/men-habilitations-v3-habilitations-partielles-inference</div></div>"
      ],
      "text/plain": [
       "Endpoint set to: http://labo-vm-2.v202.abes.fr:7200/repositories/men-habilitations-v3-habilitations-partielles-inference\n"
      ]
     },
     "metadata": {},
     "output_type": "display_data"
    }
   ],
   "source": [
    "%endpoint http://labo-vm-2.v202.abes.fr:7200/repositories/men-habilitations-v3-habilitations-partielles-inference"
   ]
  },
  {
   "cell_type": "markdown",
   "id": "765c63b3-3e2f-499f-8302-1667f647974b",
   "metadata": {
    "kernel": "sparql"
   },
   "source": [
    "<center><h1>Movies</h1></center>\n",
    "\n",
    "---"
   ]
  },
  {
   "cell_type": "markdown",
   "id": "911cc9ce-9402-4ab3-adab-103094c489e9",
   "metadata": {
    "kernel": "sparql",
    "tags": []
   },
   "source": [
    "## Modélisation des habilitations doctorales (test)\n",
    "\n",
    "### Habilitation simple\n",
    "\n",
    "<center>\n",
    "    <figure>\n",
    "        <img width=\"90%\" src=\"habilitation_doctorale.svg\">\n",
    "        <figcaption>Modélisation de l'habilitation doctorale</figcaption>\n",
    "    </figure>\n",
    "</center>\n",
    "\n",
    "### Délégation de l'habilitation doctorale\n",
    "\n",
    "<center>\n",
    "    <figure>\n",
    "        <img width=\"90%\" src=\"delegation_doctorale.svg\">\n",
    "        <figcaption>Modélisation de la délégation doctorale</figcaption>\n",
    "    </figure>\n",
    "</center>\n",
    "\n",
    "### Délégations et habilitations partielles\n",
    "\n",
    "<center>\n",
    "    <figure>\n",
    "        <img width=\"90%\" src=\"habilitations_doctorales_partielles.svg\">\n",
    "        <figcaption>Modélisation de l'habilitation partielle et de la délégation partielle</figcaption>\n",
    "    </figure>\n",
    "</center>\n",
    "\n",
    "__États des établissements__\n",
    "\n",
    "En matière de compétences doctorales il existe quatre états distincts :\n",
    "\n",
    "* `habilitation` l'établissement possède l'intégralité de l'habilitation\n",
    "* `delegationDoctorale` l'établissement délègue l'intégralité de son habilitation à un établissement tiers\n",
    "* `habilitationPartielle` l'établissement est habilité pour une partie des écoles doctorales seulement (implique une délégation partielle)\n",
    "* `delegatioPartielle` l'établissement délègue son habilitation pour une partie des écoles doctorales seulement (implique une habilitation partielle)\n",
    "\n",
    "Quelques règles régissent les états doctoraux : ils sont exclusifs les uns des autres ; ils sont bornés chronologiquement, ces bornes doivent s'inscrire dans celles de l'établissement auquel ils se rapportent : une habilitation ne peut pas être antérieure à la création d'un établissement ou postérieure à la fermeture d'un établissement ; l'état de délégation partielle implique nécessairement l'existence d'un état d'habilitation partielle.\n",
    "\n",
    "__Propriétés :__\n",
    "\n",
    "| nom        | description             | obligatoire                     | note |\n",
    "|------------|-------------------------|---------------------------------|------|\n",
    "| `from`     | établissement source    | <input type=\"checkbox\" checked> |      |\n",
    "| `to`       | établissement cible     | <input type=\"checkbox\">         |      |\n",
    "| `start`    | date de début de l'état | <input type=\"checkbox\" checked> |      |\n",
    "| `end`      | date de fin de l'état   | <input type=\"checkbox\">         |      |\n",
    "| `notes`    |                         | <input type=\"checkbox\">         |   N'est utilisée que dans le cadre de la délgation partielle et l'habilitation partielle. Cette  note précise quelles sont les écoles doctorales concernées |\n",
    "\n"
   ]
  },
  {
   "cell_type": "markdown",
   "id": "52e63d0d-da66-47a0-b97f-56329e04174d",
   "metadata": {
    "kernel": "sparql",
    "tags": []
   },
   "source": [
    "## Cas d'usage"
   ]
  },
  {
   "cell_type": "markdown",
   "id": "0be2d03a-7b68-4c39-b3c9-d48526dbefd8",
   "metadata": {
    "kernel": "sparql"
   },
   "source": [
    "### Liste des habilitations doctorales\n",
    "\n",
    "> un établissement peut être habilité plusieurs fois"
   ]
  },
  {
   "cell_type": "code",
   "execution_count": 3,
   "id": "0ef85126-0ab3-4c61-9556-fbd26df9c845",
   "metadata": {
    "kernel": "SPARQL",
    "tags": []
   },
   "outputs": [
    {
     "data": {
      "text/html": [
       "<div class=\"krn-spql\"><div class=\"magic\">Param set: infer = false</div><div class=\"magic\">Param set: sameAs = false</div><div class=\"magic\">Result maximum size: 20</div></div>"
      ],
      "text/plain": [
       "Param set: infer = false\n",
       "Param set: sameAs = false\n",
       "Result maximum size: 20\n"
      ]
     },
     "metadata": {},
     "output_type": "display_data"
    },
    {
     "data": {
      "text/html": [
       "<div class=\"krn-spql\"><div class=\"krn-error\"><span class=\"title\">Error:</span> Query processing error: &lt;urlopen error [Errno -2] Name or service not known&gt;</div></div>"
      ],
      "text/plain": [
       "Error: Query processing error: <urlopen error [Errno -2] Name or service not known>"
      ]
     },
     "metadata": {},
     "output_type": "display_data"
    }
   ],
   "source": [
    "%qparam infer false\n",
    "%qparam sameAs false\n",
    "%show 20\n",
    "\n",
    "PREFIX mov: <http://www.abes.fr/vocabularies/movies#>\n",
    "PREFIX wdt: <http://www.wikidata.org/prop/direct/>\n",
    "PREFIX foaf: <http://xmlns.com/foaf/0.1/>\n",
    "PREFIX mov_state: <http://www.abes.fr/entities/>\n",
    "        \n",
    "SELECT ?statetype ?start ?end ?codeEtab ?from ?to WHERE {\n",
    "    ?etat a mov_state:etats;\n",
    "        mov:from ?from; mov:start ?start; mov:statetype ?statetype.\n",
    "    \n",
    "    OPTIONAL {\n",
    "        ?etat mov:end ?end.\n",
    "    }\n",
    "    \n",
    "    OPTIONAL {\n",
    "        ?etat mov:to ?to.\n",
    "    }\n",
    "    \n",
    "    ?from mov:codeEtabid ?codeEtab; foaf:name ?etab.\n",
    "    \n",
    "    FILTER(?statetype IN (\"habilitationDoctorale\", \"delegationDoctorale\", \"habilitationPartielle\", \"delegationPartielle\"))\n",
    "}"
   ]
  },
  {
   "cell_type": "markdown",
   "id": "6ea8622b-4a88-479b-84c4-41e35f9aa39e",
   "metadata": {
    "kernel": "sparql"
   },
   "source": [
    "### Liste des établissements habilités"
   ]
  },
  {
   "cell_type": "code",
   "execution_count": 6,
   "id": "5cd3a640-957b-4592-a6f0-0bd30d85ca59",
   "metadata": {
    "kernel": "sparql"
   },
   "outputs": [
    {
     "data": {
      "text/html": [
       "<div class=\"krn-spql\"><div class=\"magic\">Param set: infer = false</div><div class=\"magic\">Param set: sameAs = false</div><div class=\"magic\">Result maximum size: 20</div></div>"
      ],
      "text/plain": [
       "Param set: infer = false\n",
       "Param set: sameAs = false\n",
       "Result maximum size: 20\n"
      ]
     },
     "metadata": {},
     "output_type": "display_data"
    },
    {
     "data": {
      "text/html": [
       "<div class=\"krn-spql\"><div class=\"krn-error\"><span class=\"title\">Error:</span> Query processing error: &lt;urlopen error [Errno -2] Name or service not known&gt;</div></div>"
      ],
      "text/plain": [
       "Error: Query processing error: <urlopen error [Errno -2] Name or service not known>"
      ]
     },
     "metadata": {},
     "output_type": "display_data"
    }
   ],
   "source": [
    "%qparam infer false\n",
    "%qparam sameAs false\n",
    "%show 20\n",
    "\n",
    "PREFIX mov: <http://www.abes.fr/vocabularies/movies#>\n",
    "PREFIX wdt: <http://www.wikidata.org/prop/direct/>\n",
    "PREFIX foaf: <http://xmlns.com/foaf/0.1/>       \n",
    "PREFIX xsd: <http://www.w3.org/2001/XMLSchema#>\n",
    "PREFIX mov_state: <http://www.abes.fr/entities/>\n",
    "\n",
    "SELECT ?from ?codeEtab ?name WHERE {\n",
    "  {\n",
    "    SELECT ?from WHERE {\n",
    "        ?etat a mov_state:etats;\n",
    "        mov:from ?from; mov:start ?start; mov:statetype ?statetype.\n",
    "    \n",
    "        OPTIONAL {\n",
    "            ?etat mov:end ?end.\n",
    "        }\n",
    "        \n",
    "        FILTER(?statetype IN (\"habilitationDoctorale\", \"habilitationPartielle\"))\n",
    "        FILTER (!BOUND(?end) || ?end > NOW())\n",
    "    }\n",
    "    GROUPBY(?from)\n",
    "  }\n",
    "   ?from mov:codeEtabid ?codeEtab; foaf:name ?name.\n",
    "}"
   ]
  },
  {
   "cell_type": "markdown",
   "id": "6c15ea38-4d45-4e42-819b-1b17d054e7a9",
   "metadata": {
    "kernel": "sparql"
   },
   "source": [
    "### Liste des établissements qui ne sont plus habilités"
   ]
  },
  {
   "cell_type": "code",
   "execution_count": 7,
   "id": "0cf17ce5-2657-4c4c-8ccc-09b6aa9ffb42",
   "metadata": {
    "kernel": "sparql",
    "tags": []
   },
   "outputs": [
    {
     "data": {
      "text/html": [
       "<div class=\"krn-spql\"><div class=\"magic\">Param set: infer = false</div><div class=\"magic\">Param set: sameAs = false</div><div class=\"magic\">Result maximum size: 20</div></div>"
      ],
      "text/plain": [
       "Param set: infer = false\n",
       "Param set: sameAs = false\n",
       "Result maximum size: 20\n"
      ]
     },
     "metadata": {},
     "output_type": "display_data"
    },
    {
     "data": {
      "text/html": [
       "<div class=\"krn-spql\"><div class=\"krn-error\"><span class=\"title\">Error:</span> Query processing error: &lt;urlopen error [Errno -2] Name or service not known&gt;</div></div>"
      ],
      "text/plain": [
       "Error: Query processing error: <urlopen error [Errno -2] Name or service not known>"
      ]
     },
     "metadata": {},
     "output_type": "display_data"
    }
   ],
   "source": [
    "%qparam infer false\n",
    "%qparam sameAs false\n",
    "%show 20\n",
    "\n",
    "PREFIX mov: <http://www.abes.fr/vocabularies/movies#>\n",
    "PREFIX foaf: <http://xmlns.com/foaf/0.1/>       \n",
    "\n",
    "SELECT ?from ?codeEtab ?name WHERE {\n",
    "  {\n",
    "    SELECT ?from WHERE {\n",
    "        ?etat a <http://www.abes.fr/entities/etats>;\n",
    "        mov:from ?from; mov:start ?start; mov:statetype ?statetype.\n",
    "    \n",
    "        ?etat mov:end ?end.\n",
    "        \n",
    "        FILTER(?statetype IN (\"habilitationDoctorale\", \"habilitationPartielle\"))\n",
    "        FILTER (?end < NOW())\n",
    "    }\n",
    "    GROUPBY(?from)\n",
    "  }\n",
    "   ?from mov:codeEtabid ?codeEtab; foaf:name ?name.\n",
    "}"
   ]
  },
  {
   "cell_type": "markdown",
   "id": "84a21b25-f7ca-4fd6-8805-364891a2d7b7",
   "metadata": {
    "kernel": "sparql"
   },
   "source": [
    "### Filiation des environnements thèses\n",
    "\n",
    "* Retrouver les filiations des habilitations doctorales à partir d'un établissement. Cela permet de regrouper les thèses d'une institution. Par exemple celles de Grenoble Alpes (expérimental) avec celle de Grenoble Alpes (Comue) etc.\n"
   ]
  },
  {
   "cell_type": "code",
   "execution_count": 4,
   "id": "74502a2b-6d87-4c2d-b3c1-a0e010da9919",
   "metadata": {
    "kernel": "SPARQL"
   },
   "outputs": [
    {
     "data": {
      "text/html": [
       "<div class=\"krn-spql\"><div class=\"magic\">Param set: infer = true</div><div class=\"magic\">Param set: sameAs = true</div><div class=\"magic\">Result maximum size: 20</div></div>"
      ],
      "text/plain": [
       "Param set: infer = true\n",
       "Param set: sameAs = true\n",
       "Result maximum size: 20\n"
      ]
     },
     "metadata": {},
     "output_type": "display_data"
    },
    {
     "data": {
      "text/html": [
       "<div class=\"krn-spql\"><table><tr class=hdr><th>x</th>\n",
       "<th>codeEtab</th>\n",
       "<th>xname</th>\n",
       "<th>state</th></tr><tr class=odd><td class=val><a href=\"http://paysage.mesri.fr/structures/hB4QE\" target=\"_other\">http://paysage.mesri.fr/structures/hB4QE</a></td>\n",
       "<td class=val>GREA</td>\n",
       "<td class=val>Université Grenoble Alpes</td>\n",
       "<td class=val><a href=\"http://www.abes.fr/entities/etat/existence/hB4QE/e011996ef62b1f7f01b7968c7af969e3\" target=\"_other\">http://www.abes.fr/entities/etat/existence/hB4QE/e011996ef62b1f7f01b7968c7af969e3</a></td></tr><tr class=even><td class=val><a href=\"http://paysage.mesri.fr/structures/Mrr0h\" target=\"_other\">http://paysage.mesri.fr/structures/Mrr0h</a></td>\n",
       "<td class=val>GRE1</td>\n",
       "<td class=val>Université Grenoble I</td>\n",
       "<td class=val><a href=\"http://www.abes.fr/entities/etat/existence/Mrr0h/8fb8db594330513b7b05ea4d062c0a1a\" target=\"_other\">http://www.abes.fr/entities/etat/existence/Mrr0h/8fb8db594330513b7b05ea4d062c0a1a</a></td></tr><tr class=odd><td class=val><a href=\"http://paysage.mesri.fr/structures/Mrr0h\" target=\"_other\">http://paysage.mesri.fr/structures/Mrr0h</a></td>\n",
       "<td class=val>GRE1</td>\n",
       "<td class=val>Joseph Fourier University</td>\n",
       "<td class=val><a href=\"http://www.abes.fr/entities/etat/existence/Mrr0h/8fb8db594330513b7b05ea4d062c0a1a\" target=\"_other\">http://www.abes.fr/entities/etat/existence/Mrr0h/8fb8db594330513b7b05ea4d062c0a1a</a></td></tr><tr class=even><td class=val><a href=\"http://paysage.mesri.fr/structures/VrYMi\" target=\"_other\">http://paysage.mesri.fr/structures/VrYMi</a></td>\n",
       "<td class=val>GRE2</td>\n",
       "<td class=val>Université Grenoble-II</td>\n",
       "<td class=val><a href=\"http://www.abes.fr/entities/etat/existence/VrYMi/88975f005c48b12498de3b60cf31a56a\" target=\"_other\">http://www.abes.fr/entities/etat/existence/VrYMi/88975f005c48b12498de3b60cf31a56a</a></td></tr><tr class=odd><td class=val><a href=\"http://paysage.mesri.fr/structures/VrYMi\" target=\"_other\">http://paysage.mesri.fr/structures/VrYMi</a></td>\n",
       "<td class=val>GRE2</td>\n",
       "<td class=val>Pierre Mendès-France University</td>\n",
       "<td class=val><a href=\"http://www.abes.fr/entities/etat/existence/VrYMi/88975f005c48b12498de3b60cf31a56a\" target=\"_other\">http://www.abes.fr/entities/etat/existence/VrYMi/88975f005c48b12498de3b60cf31a56a</a></td></tr><tr class=even><td class=val><a href=\"http://paysage.mesri.fr/structures/XfV3j\" target=\"_other\">http://paysage.mesri.fr/structures/XfV3j</a></td>\n",
       "<td class=val>GRE3</td>\n",
       "<td class=val>Université Grenoble-III</td>\n",
       "<td class=val><a href=\"http://www.abes.fr/entities/etat/existence/XfV3j/06fb742dc2dec1323b31a44e98220a9e\" target=\"_other\">http://www.abes.fr/entities/etat/existence/XfV3j/06fb742dc2dec1323b31a44e98220a9e</a></td></tr><tr class=odd><td class=val><a href=\"http://paysage.mesri.fr/structures/XfV3j\" target=\"_other\">http://paysage.mesri.fr/structures/XfV3j</a></td>\n",
       "<td class=val>GRE3</td>\n",
       "<td class=val>Stendhal University</td>\n",
       "<td class=val><a href=\"http://www.abes.fr/entities/etat/existence/XfV3j/06fb742dc2dec1323b31a44e98220a9e\" target=\"_other\">http://www.abes.fr/entities/etat/existence/XfV3j/06fb742dc2dec1323b31a44e98220a9e</a></td></tr><tr class=even><td class=val><a href=\"http://paysage.mesri.fr/structures/zCa4j\" target=\"_other\">http://paysage.mesri.fr/structures/zCa4j</a></td>\n",
       "<td class=val>CHAM</td>\n",
       "<td class=val>Université de Chambéry</td>\n",
       "<td class=val><a href=\"http://www.abes.fr/entities/etat/existence/zCa4j/355c932a0de742aa3760bc4a6adec681\" target=\"_other\">http://www.abes.fr/entities/etat/existence/zCa4j/355c932a0de742aa3760bc4a6adec681</a></td></tr><tr class=odd><td class=val><a href=\"http://paysage.mesri.fr/structures/zCa4j\" target=\"_other\">http://paysage.mesri.fr/structures/zCa4j</a></td>\n",
       "<td class=val>CHAM</td>\n",
       "<td class=val>University of Savoy</td>\n",
       "<td class=val><a href=\"http://www.abes.fr/entities/etat/existence/zCa4j/355c932a0de742aa3760bc4a6adec681\" target=\"_other\">http://www.abes.fr/entities/etat/existence/zCa4j/355c932a0de742aa3760bc4a6adec681</a></td></tr><tr class=even><td class=val><a href=\"http://paysage.mesri.fr/structures/2ALYK\" target=\"_other\">http://paysage.mesri.fr/structures/2ALYK</a></td>\n",
       "<td class=val>INPG</td>\n",
       "<td class=val>Institut polytechnique de Grenoble</td>\n",
       "<td class=val><a href=\"http://www.abes.fr/entities/etat/existence/2ALYK/ad293659175ee280c1924086200f917c\" target=\"_other\">http://www.abes.fr/entities/etat/existence/2ALYK/ad293659175ee280c1924086200f917c</a></td></tr><tr class=odd><td class=val><a href=\"http://paysage.mesri.fr/structures/2ALYK\" target=\"_other\">http://paysage.mesri.fr/structures/2ALYK</a></td>\n",
       "<td class=val>INPG</td>\n",
       "<td class=val>Grenoble institute of technology</td>\n",
       "<td class=val><a href=\"http://www.abes.fr/entities/etat/existence/2ALYK/ad293659175ee280c1924086200f917c\" target=\"_other\">http://www.abes.fr/entities/etat/existence/2ALYK/ad293659175ee280c1924086200f917c</a></td></tr></table><div class=\"tinfo\">Total: 11, Shown: 11</div></div>"
      ]
     },
     "metadata": {},
     "output_type": "display_data"
    }
   ],
   "source": [
    "%qparam infer true\n",
    "%qparam sameAs true\n",
    "%show 20\n",
    "\n",
    "PREFIX paysage: <http://paysage.mesri.fr/structures/>\n",
    "PREFIX mov: <http://www.abes.fr/vocabularies/movies#>\n",
    "PREFIX skos: <http://www.w3.org/2004/02/skos/core#>\n",
    "PREFIX foaf: <http://xmlns.com/foaf/0.1/>\n",
    "\n",
    "select ?x ?codeEtab ?xname ?state where {   \n",
    "    BIND(paysage:Y7ch7 as ?grenobleAlpes)\n",
    "    \n",
    "    ?grenobleAlpes (^mov:to/mov:from|^mov:from/mov:to)* ?x.\n",
    "    \n",
    "    OPTIONAL {\n",
    "       ?grenobleAlpes mov:codeEtabid ?codeEtab.    \n",
    "    }\n",
    "    \n",
    "    ?x a foaf:Organization; skos:prefLabel ?xname;  mov:codeEtabid ?codeEtab.\n",
    "    \n",
    "    ?state mov:from ?x ; mov:statetype \"existence\".\n",
    "    \n",
    "    FILTER (strstarts(str(?x), 'http://paysage.mesri.fr/structures/'))\n",
    "}"
   ]
  },
  {
   "cell_type": "markdown",
   "id": "9024674d-5d92-45ed-81ae-9a2a18b459a9",
   "metadata": {
    "kernel": "SoS",
    "tags": []
   },
   "source": [
    "## Contrôle qualité des données"
   ]
  },
  {
   "cell_type": "markdown",
   "id": "e94132dd-dcd5-4a4b-8ac9-6613e03b4057",
   "metadata": {
    "kernel": "sparql"
   },
   "source": [
    "### Validité des identifiants (PPN)"
   ]
  },
  {
   "cell_type": "code",
   "execution_count": 6,
   "id": "3dfb1cd6-f5cb-40f8-bf10-e44b66c98c63",
   "metadata": {
    "kernel": "SPARQL",
    "tags": []
   },
   "outputs": [
    {
     "data": {
      "text/html": [
       "<div class=\"krn-spql\"><table><tr class=hdr><th>ppn</th></tr></table><div class=\"tinfo\">Total: 0, Shown: 0</div></div>"
      ]
     },
     "metadata": {},
     "output_type": "display_data"
    }
   ],
   "source": [
    "PREFIX foaf: <http://xmlns.com/foaf/0.1/>\n",
    "\n",
    "select * where { \n",
    "    ?ppn a foaf:Organization.\n",
    "    \n",
    "    FILTER (STRSTARTS(str(?ppn), \"http://www.abes.fr/entities/organizations/ppn\")) \n",
    "    FILTER (!regex(STR(?ppn), '/\\\\d{8}(\\\\d|X)', \"i\"))\n",
    "}"
   ]
  },
  {
   "cell_type": "markdown",
   "id": "3285c021-5cd7-46ff-9a62-0e572393aae6",
   "metadata": {
    "kernel": "sparql"
   },
   "source": [
    "### Validité des habilitations\n",
    "\n",
    "* Seuls les établissements ayant une personnalité juridique peuvent délivrer le doctorat (que se passe-t-il s'ils changent de personnalité, cela implique-t-il une nouvelle habilitation ?)\n",
    "* Les habilitations ne peuvent pas être antérieures ou postérieures à l'existence de l'établissement"
   ]
  },
  {
   "cell_type": "code",
   "execution_count": 95,
   "id": "1397d433",
   "metadata": {
    "kernel": "sparql",
    "tags": []
   },
   "outputs": [
    {
     "data": {
      "text/html": [
       "<div class=\"krn-spql\"><div class=\"magic\">Param set: infer = true</div><div class=\"magic\">Param set: sameAs = false</div><div class=\"magic\">Result maximum size: 300</div></div>"
      ],
      "text/plain": [
       "Param set: infer = true\n",
       "Param set: sameAs = false\n",
       "Result maximum size: 300\n"
      ]
     },
     "metadata": {},
     "output_type": "display_data"
    },
    {
     "data": {
      "text/html": [
       "<div class=\"krn-spql\"><table><tr class=hdr><th>codeEtab</th>\n",
       "<th>habilitation</th>\n",
       "<th>formeJuridique</th>\n",
       "<th>startHabilitation</th>\n",
       "<th>inception</th>\n",
       "<th>endHabilitation</th>\n",
       "<th>destruction</th>\n",
       "<th>diagnostic</th></tr><tr class=odd><td class=val>EMAC</td>\n",
       "<td class=val></td>\n",
       "<td class=val>Sans personnalité juridique</td>\n",
       "<td class=val></td>\n",
       "<td class=val></td>\n",
       "<td class=val></td>\n",
       "<td class=val></td>\n",
       "<td class=val>Forme juridique invalide</td></tr><tr class=even><td class=val>EMAL</td>\n",
       "<td class=val></td>\n",
       "<td class=val>Sans personnalité juridique</td>\n",
       "<td class=val></td>\n",
       "<td class=val></td>\n",
       "<td class=val></td>\n",
       "<td class=val></td>\n",
       "<td class=val>Forme juridique invalide</td></tr><tr class=odd><td class=val>EMSE</td>\n",
       "<td class=val></td>\n",
       "<td class=val>Sans personnalité juridique</td>\n",
       "<td class=val></td>\n",
       "<td class=val></td>\n",
       "<td class=val></td>\n",
       "<td class=val></td>\n",
       "<td class=val>Forme juridique invalide</td></tr><tr class=even><td class=val>ENIS</td>\n",
       "<td class=val></td>\n",
       "<td class=val>Sans personnalité juridique</td>\n",
       "<td class=val></td>\n",
       "<td class=val></td>\n",
       "<td class=val></td>\n",
       "<td class=val></td>\n",
       "<td class=val>Forme juridique invalide</td></tr><tr class=odd><td class=val>ENST</td>\n",
       "<td class=val></td>\n",
       "<td class=val>Sans personnalité juridique</td>\n",
       "<td class=val></td>\n",
       "<td class=val></td>\n",
       "<td class=val></td>\n",
       "<td class=val></td>\n",
       "<td class=val>Forme juridique invalide</td></tr><tr class=even><td class=val>IMTA</td>\n",
       "<td class=val></td>\n",
       "<td class=val>Sans personnalité juridique</td>\n",
       "<td class=val></td>\n",
       "<td class=val></td>\n",
       "<td class=val></td>\n",
       "<td class=val></td>\n",
       "<td class=val>Forme juridique invalide</td></tr><tr class=odd><td class=val>INPL</td>\n",
       "<td class=val></td>\n",
       "<td class=val>Sans personnalité juridique</td>\n",
       "<td class=val></td>\n",
       "<td class=val></td>\n",
       "<td class=val></td>\n",
       "<td class=val></td>\n",
       "<td class=val>Forme juridique invalide</td></tr><tr class=even><td class=val>NSAM</td>\n",
       "<td class=val></td>\n",
       "<td class=val>Sans personnalité juridique</td>\n",
       "<td class=val></td>\n",
       "<td class=val></td>\n",
       "<td class=val></td>\n",
       "<td class=val></td>\n",
       "<td class=val>Forme juridique invalide</td></tr><tr class=odd><td class=val>TELB</td>\n",
       "<td class=val></td>\n",
       "<td class=val>Sans personnalité juridique</td>\n",
       "<td class=val></td>\n",
       "<td class=val></td>\n",
       "<td class=val></td>\n",
       "<td class=val></td>\n",
       "<td class=val>Forme juridique invalide</td></tr></table><div class=\"tinfo\">Total: 9, Shown: 9</div></div>"
      ]
     },
     "metadata": {},
     "output_type": "display_data"
    }
   ],
   "source": [
    "%qparam infer true\n",
    "%qparam sameAs false\n",
    "%show 20\n",
    "\n",
    "PREFIX mov: <http://www.abes.fr/vocabularies/movies#>\n",
    "PREFIX wdt: <http://www.wikidata.org/prop/direct/>\n",
    "PREFIX foaf: <http://xmlns.com/foaf/0.1/>\n",
    "\n",
    "SELECT ?codeEtab ?habilitation ?formeJuridique ?startHabilitation ?inception ?endHabilitation ?destruction ?diagnostic WHERE {\n",
    "    {\n",
    "        # On récupère les organisations qui sont ou on été habilités (c'est à dire qui ont un code établissement `?codeEtab`) ainsi que leur forme juridique.\n",
    "        ?org a foaf:Organization;\n",
    "             mov:codeEtabid ?codeEtab;\n",
    "             wdt:P1454 ?formeJuridique.\n",
    "        \n",
    "        # On filtre les établissements qui ont explicitement une absence de personnalité juridique : `Sans personnalité juridique`.\n",
    "        FILTER(?formeJuridique = \"Sans personnalité juridique\"@fr)\n",
    "        \n",
    "        # On assigne à la variable `?diagnostic` le contenu du message de diagnostic.\n",
    "        BIND(\"Forme juridique invalide\"@fr as ?diagnostic)\n",
    "    } UNION {\n",
    "        ?habilitation mov:from ?org ; mov:start ?startHabilitation ; mov:statetype ?state.\n",
    "        \n",
    "        FILTER(?state IN (\"habilitationDoctorale\", \"delegationDoctorale\", \"delegationPartielle\", \"habilitationPartielle\"))\n",
    "\n",
    "        OPTIONAL {\n",
    "            ?habilitation mov:end ?endHabilitation.\n",
    "        }\n",
    "        \n",
    "        ?org mov:codeEtabid ?codeEtab.\n",
    "        \n",
    "        ?existence ?_ <http://www.abes.fr/entities/etats>;\n",
    "                mov:from ?org;\n",
    "                mov:statetype \"existence\".\n",
    "\n",
    "        ?existence mov:start ?creation_etab.\n",
    "\n",
    "        OPTIONAL {\n",
    "            ?existence mov:end ?supression_etab.\n",
    "        }\n",
    "        \n",
    "        # On filtre les établissements pour lesquels :\n",
    "        # les dates d'habilitation dépassent les date d'existence\n",
    "        # ou pour lesquels la fin de l'habilitation est antérieure au début de l'habilitation\n",
    "        FILTER(?startHabilitation < ?inception || ?endHabilitation > ?destruction || ?endHabilitation < ?startHabilitation)\n",
    "        BIND(\"Dates d'habilitation invalides\"@fr as ?diagnostic)\n",
    "    }\n",
    "}"
   ]
  },
  {
   "cell_type": "markdown",
   "id": "35608d2b-ff5c-4f39-9607-28736129834f",
   "metadata": {
    "kernel": "sparql"
   },
   "source": [
    "### Établissements non liés à Paysage"
   ]
  },
  {
   "cell_type": "code",
   "execution_count": 7,
   "id": "9b9e467e-73a9-4e8a-ab0f-b43f5bc6fcbf",
   "metadata": {
    "kernel": "SPARQL",
    "tags": []
   },
   "outputs": [
    {
     "data": {
      "text/html": [
       "<div class=\"krn-spql\"><div class=\"magic\">Param set: infer = false</div><div class=\"magic\">Param set: sameAs = false</div><div class=\"magic\">Result maximum size: 20</div></div>"
      ],
      "text/plain": [
       "Param set: infer = false\n",
       "Param set: sameAs = false\n",
       "Result maximum size: 20\n"
      ]
     },
     "metadata": {},
     "output_type": "display_data"
    },
    {
     "data": {
      "text/html": [
       "<div class=\"krn-spql\"><table><tr class=hdr><th>org_abes</th>\n",
       "<th>name</th></tr><tr class=odd><td class=val><a href=\"http://www.abes.fr/entities/organizations/ppn/026402882\" target=\"_other\">http://www.abes.fr/entities/organizations/ppn/026402882</a></td>\n",
       "<td class=val>Aix-Marseille 2</td></tr><tr class=even><td class=val><a href=\"http://www.abes.fr/entities/organizations/ppn/028968832\" target=\"_other\">http://www.abes.fr/entities/organizations/ppn/028968832</a></td>\n",
       "<td class=val>Alger (Période coloniale)</td></tr><tr class=odd><td class=val><a href=\"http://www.abes.fr/entities/organizations/ppn/030142199\" target=\"_other\">http://www.abes.fr/entities/organizations/ppn/030142199</a></td>\n",
       "<td class=val>Bordeaux (1441-1970)</td></tr><tr class=even><td class=val><a href=\"http://www.abes.fr/entities/organizations/ppn/030142865\" target=\"_other\">http://www.abes.fr/entities/organizations/ppn/030142865</a></td>\n",
       "<td class=val>Clermont-Ferrand</td></tr><tr class=odd><td class=val><a href=\"http://www.abes.fr/entities/organizations/ppn/034751386\" target=\"_other\">http://www.abes.fr/entities/organizations/ppn/034751386</a></td>\n",
       "<td class=val>Ecole nationale supérieure des industries alimentaires - Massy</td></tr><tr class=even><td class=val><a href=\"http://www.abes.fr/entities/organizations/ppn/030937809\" target=\"_other\">http://www.abes.fr/entities/organizations/ppn/030937809</a></td>\n",
       "<td class=val>Ecole des Mines de Douai</td></tr><tr class=odd><td class=val><a href=\"http://www.abes.fr/entities/organizations/ppn/026436930\" target=\"_other\">http://www.abes.fr/entities/organizations/ppn/026436930</a></td>\n",
       "<td class=val>Ecole nationale du génie rural, des eaux et forêts</td></tr><tr class=even><td class=val><a href=\"http://www.abes.fr/entities/organizations/ppn/026523477\" target=\"_other\">http://www.abes.fr/entities/organizations/ppn/026523477</a></td>\n",
       "<td class=val>Ecole nationale supérieure d'agronomie de Montpellier</td></tr><tr class=odd><td class=val><a href=\"http://www.abes.fr/entities/organizations/ppn/029884942\" target=\"_other\">http://www.abes.fr/entities/organizations/ppn/029884942</a></td>\n",
       "<td class=val>Faculté de droit et sciences économiques de Grenoble</td></tr><tr class=even><td class=val><a href=\"http://www.abes.fr/entities/organizations/ppn/072323965\" target=\"_other\">http://www.abes.fr/entities/organizations/ppn/072323965</a></td>\n",
       "<td class=val>Faculté des lettres et sciences humaines de Grenoble</td></tr><tr class=odd><td class=val><a href=\"http://www.abes.fr/entities/organizations/ppn/030327202\" target=\"_other\">http://www.abes.fr/entities/organizations/ppn/030327202</a></td>\n",
       "<td class=val>Grenoble PRES</td></tr><tr class=even><td class=val><a href=\"http://www.abes.fr/entities/organizations/ppn/155569678\" target=\"_other\">http://www.abes.fr/entities/organizations/ppn/155569678</a></td>\n",
       "<td class=val>Faculté de droit de Grenoble</td></tr><tr class=odd><td class=val><a href=\"http://www.abes.fr/entities/organizations/ppn/155078771\" target=\"_other\">http://www.abes.fr/entities/organizations/ppn/155078771</a></td>\n",
       "<td class=val>Faculté de Lettres de Grenoble</td></tr><tr class=even><td class=val><a href=\"http://www.abes.fr/entities/organizations/ppn/026387859\" target=\"_other\">http://www.abes.fr/entities/organizations/ppn/026387859</a></td>\n",
       "<td class=val>Institut national d'agronomie - Paris Grignon</td></tr><tr class=odd><td class=val><a href=\"http://www.abes.fr/entities/organizations/ppn/034124098\" target=\"_other\">http://www.abes.fr/entities/organizations/ppn/034124098</a></td>\n",
       "<td class=val>Faculté des sciences de Lille</td></tr><tr class=even><td class=val><a href=\"http://www.abes.fr/entities/organizations/ppn/027291340\" target=\"_other\">http://www.abes.fr/entities/organizations/ppn/027291340</a></td>\n",
       "<td class=val>Université de Lille</td></tr><tr class=odd><td class=val><a href=\"http://www.abes.fr/entities/organizations/ppn/169816079\" target=\"_other\">http://www.abes.fr/entities/organizations/ppn/169816079</a></td>\n",
       "<td class=val>Faculté de médecine et de pharmacie de Lyon</td></tr><tr class=even><td class=val><a href=\"http://www.abes.fr/entities/organizations/ppn/169815714\" target=\"_other\">http://www.abes.fr/entities/organizations/ppn/169815714</a></td>\n",
       "<td class=val>Faculté de sciences de Lyon</td></tr><tr class=odd><td class=val><a href=\"http://www.abes.fr/entities/organizations/ppn/169855392\" target=\"_other\">http://www.abes.fr/entities/organizations/ppn/169855392</a></td>\n",
       "<td class=val>Ecole préparatoire de médecine et pharmacie de Lyon</td></tr><tr class=even><td class=val><a href=\"http://www.abes.fr/entities/organizations/ppn/028025261\" target=\"_other\">http://www.abes.fr/entities/organizations/ppn/028025261</a></td>\n",
       "<td class=val>Université de Lyon (1896-1969)</td></tr></table><div class=\"tinfo\">Total: 35, Shown: 20</div></div>"
      ]
     },
     "metadata": {},
     "output_type": "display_data"
    }
   ],
   "source": [
    "%qparam infer false\n",
    "%qparam sameAs false\n",
    "%show 20\n",
    "\n",
    "PREFIX mov: <http://www.abes.fr/vocabularies/movies#>\n",
    "PREFIX foaf: <http://xmlns.com/foaf/0.1/>\n",
    "PREFIX owl: <http://www.w3.org/2002/07/owl#>\n",
    "\n",
    "SELECT ?org_abes ?name WHERE {\n",
    "    ?org_abes a foaf:Organization;\n",
    "        foaf:name ?name.\n",
    "    \n",
    "    FILTER (STRSTARTS(str(?org_abes), \"http://www.abes.fr/entities/organizations/ppn\"))\n",
    "    \n",
    "    MINUS { \n",
    "        ?org_paysage (^owl:sameAs|owl:sameAs) ?org_abes .\n",
    "        FILTER (STRSTARTS(str(?org_paysage), \"http://paysage.mesri.fr/structures/\"))\n",
    "    }\n",
    "    \n",
    "    OPTIONAL {\n",
    "        ?org_abes (^owl:sameAs|owl:sameAs) ?relation.    \n",
    "    }\n",
    "}"
   ]
  },
  {
   "cell_type": "markdown",
   "id": "e71b77e3-b5ea-4b12-bfcb-680c20969839",
   "metadata": {
    "kernel": "sparql"
   },
   "source": [
    "### Habilitations partielles et délégations partielles non réciproques\n",
    "\n",
    "On vérifie qu'une habilitation partielle donne lieu à une délégation partielle. Les dates d'habilitation partielle et de la délégation partielle doivent correspondre."
   ]
  },
  {
   "cell_type": "code",
   "execution_count": 97,
   "id": "fa6b37c0-bd42-4610-a046-4fec5f946bf4",
   "metadata": {
    "kernel": "sparql"
   },
   "outputs": [
    {
     "data": {
      "text/html": [
       "<div class=\"krn-spql\"><div class=\"magic\">Param set: infer = false</div><div class=\"magic\">Param set: sameAs = false</div><div class=\"magic\">Result maximum size: 20</div></div>"
      ],
      "text/plain": [
       "Param set: infer = false\n",
       "Param set: sameAs = false\n",
       "Result maximum size: 20\n"
      ]
     },
     "metadata": {},
     "output_type": "display_data"
    },
    {
     "data": {
      "text/html": [
       "<div class=\"krn-spql\"><table><tr class=hdr><th>etat</th>\n",
       "<th>from</th>\n",
       "<th>to</th>\n",
       "<th>start</th>\n",
       "<th>end</th></tr><tr class=odd><td class=val><a href=\"http://www.abes.fr/entities/etats/c48aaf0d8dccd4686babcaf2605d4d9c7a0894ec\" target=\"_other\">http://www.abes.fr/entities/etats/c48aaf0d8dccd4686babcaf2605d4d9c7a0894ec</a></td>\n",
       "<td class=val><a href=\"http://www.abes.fr/entities/organizations/ppn/139408088\" target=\"_other\">http://www.abes.fr/entities/organizations/ppn/139408088</a></td>\n",
       "<td class=val><a href=\"http://www.abes.fr/entities/organizations/ppn/241345251\" target=\"_other\">http://www.abes.fr/entities/organizations/ppn/241345251</a></td>\n",
       "<td class=val>2020-01-01</td>\n",
       "<td class=val>9999-12-31</td></tr><tr class=even><td class=val><a href=\"http://www.abes.fr/entities/etats/d6679b452c95c205be91388b12c002d1fd00ba83\" target=\"_other\">http://www.abes.fr/entities/etats/d6679b452c95c205be91388b12c002d1fd00ba83</a></td>\n",
       "<td class=val><a href=\"http://www.abes.fr/entities/organizations/ppn/027404978\" target=\"_other\">http://www.abes.fr/entities/organizations/ppn/027404978</a></td>\n",
       "<td class=val><a href=\"http://www.abes.fr/entities/organizations/ppn/238277429\" target=\"_other\">http://www.abes.fr/entities/organizations/ppn/238277429</a></td>\n",
       "<td class=val>2020-01-01</td>\n",
       "<td class=val>9999-12-31</td></tr><tr class=odd><td class=val><a href=\"http://www.abes.fr/entities/etats/976c0d754e863a784f28c593a1b732891745a8e0\" target=\"_other\">http://www.abes.fr/entities/etats/976c0d754e863a784f28c593a1b732891745a8e0</a></td>\n",
       "<td class=val><a href=\"http://www.abes.fr/entities/organizations/ppn/026375060\" target=\"_other\">http://www.abes.fr/entities/organizations/ppn/026375060</a></td>\n",
       "<td class=val><a href=\"http://www.abes.fr/entities/organizations/ppn/121855465\" target=\"_other\">http://www.abes.fr/entities/organizations/ppn/121855465</a></td>\n",
       "<td class=val>2008-01-01</td>\n",
       "<td class=val>2015-03-01</td></tr></table><div class=\"tinfo\">Total: 3, Shown: 3</div></div>"
      ]
     },
     "metadata": {},
     "output_type": "display_data"
    }
   ],
   "source": [
    "%qparam infer false\n",
    "%qparam sameAs false\n",
    "%show 20\n",
    "\n",
    "PREFIX mov: <http://www.abes.fr/vocabularies/movies#>\n",
    "PREFIX foaf: <http://xmlns.com/foaf/0.1/>\n",
    "\n",
    "SELECT DISTINCT * {\n",
    "    ?etat a <http://www.abes.fr/entities/etats>;\n",
    "          mov:from ?from;\n",
    "          mov:to ?to;\n",
    "          mov:start ?start;\n",
    "          mov:end ?end;\n",
    "          mov:statetype \"delegationPartielle\".\n",
    "\n",
    "    OPTIONAL {\n",
    "        [] a <http://www.abes.fr/entities/etats>;\n",
    "               mov:from ?to;\n",
    "               mov:start ?start;\n",
    "               mov:end ?end;\n",
    "               mov:statetype \"habilitationPartielle\". \n",
    "    }\n",
    "}\n"
   ]
  },
  {
   "cell_type": "markdown",
   "id": "e9b317eb-8afd-4b0a-b895-9cd47bb91f8a",
   "metadata": {
    "kernel": "sparql"
   },
   "source": [
    "### Habilitation sans fin (alors que l'établissement a disparu)"
   ]
  },
  {
   "cell_type": "code",
   "execution_count": 98,
   "id": "117f04b9-fcec-40a1-9054-f31ba671f1af",
   "metadata": {
    "kernel": "sparql"
   },
   "outputs": [
    {
     "data": {
      "text/html": [
       "<div class=\"krn-spql\"><div class=\"magic\">Param set: infer = true</div><div class=\"magic\">Param set: sameAs = false</div><div class=\"magic\">Result maximum size: 20</div></div>"
      ],
      "text/plain": [
       "Param set: infer = true\n",
       "Param set: sameAs = false\n",
       "Result maximum size: 20\n"
      ]
     },
     "metadata": {},
     "output_type": "display_data"
    },
    {
     "data": {
      "text/html": [
       "<div class=\"krn-spql\"><table><tr class=hdr><th>existence</th>\n",
       "<th>from</th>\n",
       "<th>existence_end</th>\n",
       "<th>habilitation</th>\n",
       "<th>habilitation_end</th>\n",
       "<th>doct_state</th></tr><tr class=odd><td class=val><a href=\"http://www.abes.fr/entities/etat/existence/RDy6Q/caaf6ecac0f4e1626742a28477d20be1\" target=\"_other\">http://www.abes.fr/entities/etat/existence/RDy6Q/caaf6ecac0f4e1626742a28477d20be1</a></td>\n",
       "<td class=val><a href=\"http://www.abes.fr/entities/organizations/ppn/185433669\" target=\"_other\">http://www.abes.fr/entities/organizations/ppn/185433669</a></td>\n",
       "<td class=val>2019-12-31T00:00:00Z</td>\n",
       "<td class=val><a href=\"http://www.abes.fr/entities/etats/a2d89d794779631f320c79de96d071884c7fbf7d\" target=\"_other\">http://www.abes.fr/entities/etats/a2d89d794779631f320c79de96d071884c7fbf7d</a></td>\n",
       "<td class=val>9999-12-31</td>\n",
       "<td class=val>habilitationDoctorale</td></tr><tr class=even><td class=val><a href=\"http://www.abes.fr/entities/etat/existence/hB4QE/e011996ef62b1f7f01b7968c7af969e3\" target=\"_other\">http://www.abes.fr/entities/etat/existence/hB4QE/e011996ef62b1f7f01b7968c7af969e3</a></td>\n",
       "<td class=val><a href=\"http://www.abes.fr/entities/organizations/ppn/184668794\" target=\"_other\">http://www.abes.fr/entities/organizations/ppn/184668794</a></td>\n",
       "<td class=val>2019-12-31T00:00:00Z</td>\n",
       "<td class=val><a href=\"http://www.abes.fr/entities/etats/d1c26eb0a265f6749e903dd9cc69853d9de17b6f\" target=\"_other\">http://www.abes.fr/entities/etats/d1c26eb0a265f6749e903dd9cc69853d9de17b6f</a></td>\n",
       "<td class=val>9999-12-31</td>\n",
       "<td class=val>habilitationDoctorale</td></tr><tr class=odd><td class=val><a href=\"http://www.abes.fr/entities/etat/existence/O2v0H/5d5175df7b9fae445998009dd456d367\" target=\"_other\">http://www.abes.fr/entities/etat/existence/O2v0H/5d5175df7b9fae445998009dd456d367</a></td>\n",
       "<td class=val><a href=\"http://www.abes.fr/entities/organizations/ppn/026404788\" target=\"_other\">http://www.abes.fr/entities/organizations/ppn/026404788</a></td>\n",
       "<td class=val>2019-12-31T00:00:00Z</td>\n",
       "<td class=val><a href=\"http://www.abes.fr/entities/etats/25630048aee1a4e5d72bafe82efe4f59c8e0112d\" target=\"_other\">http://www.abes.fr/entities/etats/25630048aee1a4e5d72bafe82efe4f59c8e0112d</a></td>\n",
       "<td class=val>9999-12-31</td>\n",
       "<td class=val>delegationDoctorale</td></tr><tr class=even><td class=val><a href=\"http://www.abes.fr/entities/etat/existence/7CYWd/5d5175df7b9fae445998009dd456d367\" target=\"_other\">http://www.abes.fr/entities/etat/existence/7CYWd/5d5175df7b9fae445998009dd456d367</a></td>\n",
       "<td class=val><a href=\"http://www.abes.fr/entities/organizations/ppn/026403498\" target=\"_other\">http://www.abes.fr/entities/organizations/ppn/026403498</a></td>\n",
       "<td class=val>2019-12-31T00:00:00Z</td>\n",
       "<td class=val><a href=\"http://www.abes.fr/entities/etats/87bacdbca770db68da0958c8f5bcf22f5e1e1280\" target=\"_other\">http://www.abes.fr/entities/etats/87bacdbca770db68da0958c8f5bcf22f5e1e1280</a></td>\n",
       "<td class=val>9999-12-31</td>\n",
       "<td class=val>delegationDoctorale</td></tr><tr class=odd><td class=val><a href=\"http://www.abes.fr/entities/etat/existence/9Y8CD/a9d390293bdb93ffa75b0aa9ae9b937a\" target=\"_other\">http://www.abes.fr/entities/etat/existence/9Y8CD/a9d390293bdb93ffa75b0aa9ae9b937a</a></td>\n",
       "<td class=val><a href=\"http://www.abes.fr/entities/organizations/ppn/030820499\" target=\"_other\">http://www.abes.fr/entities/organizations/ppn/030820499</a></td>\n",
       "<td class=val>2019-12-31T00:00:00Z</td>\n",
       "<td class=val><a href=\"http://www.abes.fr/entities/etats/9777dcee316366cab5c4472ec6e5e3e51fab8833\" target=\"_other\">http://www.abes.fr/entities/etats/9777dcee316366cab5c4472ec6e5e3e51fab8833</a></td>\n",
       "<td class=val>9999-12-31</td>\n",
       "<td class=val>delegationDoctorale</td></tr><tr class=even><td class=val><a href=\"http://www.abes.fr/entities/etat/existence/wGM55/4b04936292ede989b755e1765cba7daa\" target=\"_other\">http://www.abes.fr/entities/etat/existence/wGM55/4b04936292ede989b755e1765cba7daa</a></td>\n",
       "<td class=val><a href=\"http://www.abes.fr/entities/organizations/ppn/027960250\" target=\"_other\">http://www.abes.fr/entities/organizations/ppn/027960250</a></td>\n",
       "<td class=val>2014-12-31T00:00:00Z</td>\n",
       "<td class=val><a href=\"http://www.abes.fr/entities/etats/d0aeca2d0af40a8d2fcec113b4d62b382c06c403\" target=\"_other\">http://www.abes.fr/entities/etats/d0aeca2d0af40a8d2fcec113b4d62b382c06c403</a></td>\n",
       "<td class=val>9999-12-31</td>\n",
       "<td class=val>delegationDoctorale</td></tr></table><div class=\"tinfo\">Total: 6, Shown: 6</div></div>"
      ]
     },
     "metadata": {},
     "output_type": "display_data"
    }
   ],
   "source": [
    "%qparam infer true\n",
    "%qparam sameAs false\n",
    "%show 20\n",
    "\n",
    "PREFIX mov: <http://www.abes.fr/vocabularies/movies#>\n",
    "PREFIX xsd: <http://www.w3.org/2001/XMLSchema#>\n",
    "\n",
    "SELECT DISTINCT * WHERE {\n",
    "    ?existence a <http://www.abes.fr/entities/etats>;\n",
    "        mov:from ?from;\n",
    "        mov:statetype \"existence\";\n",
    "        mov:end ?existence_end\n",
    "\n",
    "    OPTIONAL {\n",
    "        ?habilitation mov:from ?from;\n",
    "           mov:end ?habilitation_end;\n",
    "           mov:statetype ?doct_state.\n",
    "    }\n",
    "    \n",
    "    FILTER(?doct_state IN (\"habilitationDoctorale\", \"delegationDoctorale\", \"habilitationPartielle\",\"delegationPartielle\"))\n",
    "    FILTER(?habilitation_end = \"9999-12-31\"^^xsd:dateTime) \n",
    "}"
   ]
  },
  {
   "cell_type": "markdown",
   "id": "b2690226-84dd-4e0c-b058-365202cd26c6",
   "metadata": {
    "kernel": "sparql"
   },
   "source": [
    "### États et existences incompatibles\n",
    "\n",
    "Les états sont considérés comme invalides s'ils débutent avant la période d'existence de l'établissement ou s'ils cessent après cette période (à l'exception les états de succession)."
   ]
  },
  {
   "cell_type": "code",
   "execution_count": 99,
   "id": "4bb767d7-ba3b-4cf7-ad9e-b9d5b5658258",
   "metadata": {
    "kernel": "sparql"
   },
   "outputs": [
    {
     "data": {
      "text/html": [
       "<div class=\"krn-spql\"><div class=\"magic\">Param set: infer = true</div><div class=\"magic\">Param set: sameAs = false</div><div class=\"magic\">Result maximum size: 20</div></div>"
      ],
      "text/plain": [
       "Param set: infer = true\n",
       "Param set: sameAs = false\n",
       "Result maximum size: 20\n"
      ]
     },
     "metadata": {},
     "output_type": "display_data"
    },
    {
     "data": {
      "text/html": [
       "<div class=\"krn-spql\"><table><tr class=hdr><th>state</th>\n",
       "<th>existence</th>\n",
       "<th>state_start</th>\n",
       "<th>state_end</th>\n",
       "<th>existence_start</th>\n",
       "<th>existence_end</th>\n",
       "<th>diagnostic</th></tr><tr class=odd><td class=val><a href=\"http://www.abes.fr/entities/etats/729242428330ac311a2171c637b5c0bb82ed88e6\" target=\"_other\">http://www.abes.fr/entities/etats/729242428330ac311a2171c637b5c0bb82ed88e6</a></td>\n",
       "<td class=val><a href=\"http://www.abes.fr/entities/etat/existence/p25Q3/ad293659175ee280c1924086200f917c\" target=\"_other\">http://www.abes.fr/entities/etat/existence/p25Q3/ad293659175ee280c1924086200f917c</a></td>\n",
       "<td class=val>1432-01-01</td>\n",
       "<td class=val>2016-12-31</td>\n",
       "<td class=val>1971-01-01T00:00:00Z</td>\n",
       "<td class=val>9999-12-31</td>\n",
       "<td class=val>l'état débute avant l'existence</td></tr><tr class=even><td class=val><a href=\"http://www.abes.fr/entities/etats/a106c38edcf5e702277d7b752a60b3818bd624b4\" target=\"_other\">http://www.abes.fr/entities/etats/a106c38edcf5e702277d7b752a60b3818bd624b4</a></td>\n",
       "<td class=val><a href=\"http://www.abes.fr/entities/etat/existence/atbEK/4e0d6df746322a4e1a5798a1c437eabd\" target=\"_other\">http://www.abes.fr/entities/etat/existence/atbEK/4e0d6df746322a4e1a5798a1c437eabd</a></td>\n",
       "<td class=val>1993-01-20</td>\n",
       "<td class=val>9999-12-31</td>\n",
       "<td class=val>1993-01-22T00:00:00Z</td>\n",
       "<td class=val>9999-12-31</td>\n",
       "<td class=val>l'état débute avant l'existence</td></tr><tr class=odd><td class=val><a href=\"http://www.abes.fr/entities/etats/78875d80c227fc8c2c3902c1ebaa3ef879fd866a\" target=\"_other\">http://www.abes.fr/entities/etats/78875d80c227fc8c2c3902c1ebaa3ef879fd866a</a></td>\n",
       "<td class=val><a href=\"http://www.abes.fr/entities/etat/existence/7Mpgt/ad293659175ee280c1924086200f917c\" target=\"_other\">http://www.abes.fr/entities/etat/existence/7Mpgt/ad293659175ee280c1924086200f917c</a></td>\n",
       "<td class=val>1968-01-01</td>\n",
       "<td class=val>2016-12-31</td>\n",
       "<td class=val>1971-01-01T00:00:00Z</td>\n",
       "<td class=val>9999-12-31</td>\n",
       "<td class=val>l'état débute avant l'existence</td></tr><tr class=even><td class=val><a href=\"http://www.abes.fr/entities/etats/91b19da797056f910532c3f747163cb004242c16\" target=\"_other\">http://www.abes.fr/entities/etats/91b19da797056f910532c3f747163cb004242c16</a></td>\n",
       "<td class=val><a href=\"http://www.abes.fr/entities/etat/existence/ti37C/ad293659175ee280c1924086200f917c\" target=\"_other\">http://www.abes.fr/entities/etat/existence/ti37C/ad293659175ee280c1924086200f917c</a></td>\n",
       "<td class=val>1969</td>\n",
       "<td class=val>9999-12-31</td>\n",
       "<td class=val>1971-01-01T00:00:00Z</td>\n",
       "<td class=val>9999-12-31</td>\n",
       "<td class=val>l'état débute avant l'existence</td></tr><tr class=odd><td class=val><a href=\"http://www.abes.fr/entities/etats/88479ecbfa9f937034c076716d3a9b5eff895bf4\" target=\"_other\">http://www.abes.fr/entities/etats/88479ecbfa9f937034c076716d3a9b5eff895bf4</a></td>\n",
       "<td class=val><a href=\"http://www.abes.fr/entities/etat/existence/j5bS4/ca3f78ee242cc8194613c11a1e07e7d7\" target=\"_other\">http://www.abes.fr/entities/etat/existence/j5bS4/ca3f78ee242cc8194613c11a1e07e7d7</a></td>\n",
       "<td class=val>2013-10-17</td>\n",
       "<td class=val>9999-12-31</td>\n",
       "<td class=val>2013-10-19T00:00:00Z</td>\n",
       "<td class=val>9999-12-31</td>\n",
       "<td class=val>l'état débute avant l'existence</td></tr><tr class=even><td class=val><a href=\"http://www.abes.fr/entities/etats/a18e580ce18e63f5a3a1a9b414edbdbafbf01c54\" target=\"_other\">http://www.abes.fr/entities/etats/a18e580ce18e63f5a3a1a9b414edbdbafbf01c54</a></td>\n",
       "<td class=val><a href=\"http://www.abes.fr/entities/etat/existence/O2v0H/5d5175df7b9fae445998009dd456d367\" target=\"_other\">http://www.abes.fr/entities/etat/existence/O2v0H/5d5175df7b9fae445998009dd456d367</a></td>\n",
       "<td class=val>1970-03-21</td>\n",
       "<td class=val>2014-12-31</td>\n",
       "<td class=val>1971-01-01T00:00:00Z</td>\n",
       "<td class=val>2019-12-31T00:00:00Z</td>\n",
       "<td class=val>l'état débute avant l'existence</td></tr><tr class=odd><td class=val><a href=\"http://www.abes.fr/entities/etats/d3daebe81d451ab29fc5c6d2ff05991cb729e073\" target=\"_other\">http://www.abes.fr/entities/etats/d3daebe81d451ab29fc5c6d2ff05991cb729e073</a></td>\n",
       "<td class=val><a href=\"http://www.abes.fr/entities/etat/existence/5KpJ9/5d5175df7b9fae445998009dd456d367\" target=\"_other\">http://www.abes.fr/entities/etat/existence/5KpJ9/5d5175df7b9fae445998009dd456d367</a></td>\n",
       "<td class=val>1970-03-21</td>\n",
       "<td class=val>2014-12-31</td>\n",
       "<td class=val>1971-01-01T00:00:00Z</td>\n",
       "<td class=val>2019-12-31T00:00:00Z</td>\n",
       "<td class=val>l'état débute avant l'existence</td></tr><tr class=even><td class=val><a href=\"http://www.abes.fr/entities/etats/2042d585e9e059524c28b3f896e284a93a797c53\" target=\"_other\">http://www.abes.fr/entities/etats/2042d585e9e059524c28b3f896e284a93a797c53</a></td>\n",
       "<td class=val><a href=\"http://www.abes.fr/entities/etat/existence/kvciR/56539f629975363b2513ce5c9258f996\" target=\"_other\">http://www.abes.fr/entities/etat/existence/kvciR/56539f629975363b2513ce5c9258f996</a></td>\n",
       "<td class=val>1970-03-21</td>\n",
       "<td class=val>2017-12-31</td>\n",
       "<td class=val>1971-01-01T00:00:00Z</td>\n",
       "<td class=val>2017-12-31T00:00:00Z</td>\n",
       "<td class=val>l'état débute avant l'existence</td></tr><tr class=odd><td class=val><a href=\"http://www.abes.fr/entities/etats/252c95b8587ccaf36be2cecbb48da6ac73a93a23\" target=\"_other\">http://www.abes.fr/entities/etats/252c95b8587ccaf36be2cecbb48da6ac73a93a23</a></td>\n",
       "<td class=val><a href=\"http://www.abes.fr/entities/etat/existence/3itX6/49bf00b8715ad00ed7ea2db749f67610\" target=\"_other\">http://www.abes.fr/entities/etat/existence/3itX6/49bf00b8715ad00ed7ea2db749f67610</a></td>\n",
       "<td class=val>1976-01-01</td>\n",
       "<td class=val>2016-12-31</td>\n",
       "<td class=val>1976-03-18T00:00:00Z</td>\n",
       "<td class=val>2016-12-31T00:00:00Z</td>\n",
       "<td class=val>l'état débute avant l'existence</td></tr><tr class=even><td class=val><a href=\"http://www.abes.fr/entities/etats/f689950e6a69ddebd3e7570545abf98432d5bb1d\" target=\"_other\">http://www.abes.fr/entities/etats/f689950e6a69ddebd3e7570545abf98432d5bb1d</a></td>\n",
       "<td class=val><a href=\"http://www.abes.fr/entities/etat/existence/cqkij/ad293659175ee280c1924086200f917c\" target=\"_other\">http://www.abes.fr/entities/etat/existence/cqkij/ad293659175ee280c1924086200f917c</a></td>\n",
       "<td class=val>1970</td>\n",
       "<td class=val>9999-12-31</td>\n",
       "<td class=val>1971-01-01T00:00:00Z</td>\n",
       "<td class=val>9999-12-31</td>\n",
       "<td class=val>l'état débute avant l'existence</td></tr><tr class=odd><td class=val><a href=\"http://www.abes.fr/entities/etats/cb75981546122cd11316e3f0390960b8f5f03b95\" target=\"_other\">http://www.abes.fr/entities/etats/cb75981546122cd11316e3f0390960b8f5f03b95</a></td>\n",
       "<td class=val><a href=\"http://www.abes.fr/entities/etat/existence/7Gzub/2b45dbda5b45e6be05c1790ae3914a87\" target=\"_other\">http://www.abes.fr/entities/etat/existence/7Gzub/2b45dbda5b45e6be05c1790ae3914a87</a></td>\n",
       "<td class=val>1973-07-26</td>\n",
       "<td class=val>2015-02-28</td>\n",
       "<td class=val>1973-07-28T00:00:00Z</td>\n",
       "<td class=val>9999-12-31</td>\n",
       "<td class=val>l'état débute avant l'existence</td></tr><tr class=even><td class=val><a href=\"http://www.abes.fr/entities/etats/13e1fdafd124499dc5336345e1305b426deea63d\" target=\"_other\">http://www.abes.fr/entities/etats/13e1fdafd124499dc5336345e1305b426deea63d</a></td>\n",
       "<td class=val><a href=\"http://www.abes.fr/entities/etat/existence/6G2TU/ad293659175ee280c1924086200f917c\" target=\"_other\">http://www.abes.fr/entities/etat/existence/6G2TU/ad293659175ee280c1924086200f917c</a></td>\n",
       "<td class=val>1970-03-21</td>\n",
       "<td class=val>9999-12-31</td>\n",
       "<td class=val>1971-01-01T00:00:00Z</td>\n",
       "<td class=val>9999-12-31</td>\n",
       "<td class=val>l'état débute avant l'existence</td></tr><tr class=odd><td class=val><a href=\"http://www.abes.fr/entities/etats/111f097908c9886786cf5b76d3b002127766d8c2\" target=\"_other\">http://www.abes.fr/entities/etats/111f097908c9886786cf5b76d3b002127766d8c2</a></td>\n",
       "<td class=val><a href=\"http://www.abes.fr/entities/etat/existence/C701f/355c932a0de742aa3760bc4a6adec681\" target=\"_other\">http://www.abes.fr/entities/etat/existence/C701f/355c932a0de742aa3760bc4a6adec681</a></td>\n",
       "<td class=val>1979-02-22</td>\n",
       "<td class=val>9999-12-31</td>\n",
       "<td class=val>1979-10-01T00:00:00Z</td>\n",
       "<td class=val>9999-12-31</td>\n",
       "<td class=val>l'état débute avant l'existence</td></tr><tr class=even><td class=val><a href=\"http://www.abes.fr/entities/etats/89b6d660bb6258ce6badef63a283575de22a410e\" target=\"_other\">http://www.abes.fr/entities/etats/89b6d660bb6258ce6badef63a283575de22a410e</a></td>\n",
       "<td class=val><a href=\"http://www.abes.fr/entities/etat/existence/Uxr7Z/ad293659175ee280c1924086200f917c\" target=\"_other\">http://www.abes.fr/entities/etat/existence/Uxr7Z/ad293659175ee280c1924086200f917c</a></td>\n",
       "<td class=val>1970-03-21</td>\n",
       "<td class=val>9999-12-31</td>\n",
       "<td class=val>1971-01-01T00:00:00Z</td>\n",
       "<td class=val>9999-12-31</td>\n",
       "<td class=val>l'état débute avant l'existence</td></tr><tr class=odd><td class=val><a href=\"http://www.abes.fr/entities/etats/80e18d1efab0c0b4ab366320496c31b1fabc6b42\" target=\"_other\">http://www.abes.fr/entities/etats/80e18d1efab0c0b4ab366320496c31b1fabc6b42</a></td>\n",
       "<td class=val><a href=\"http://www.abes.fr/entities/etat/existence/zepT6/37e0eee320c9e49da83ac05f844d7282\" target=\"_other\">http://www.abes.fr/entities/etat/existence/zepT6/37e0eee320c9e49da83ac05f844d7282</a></td>\n",
       "<td class=val>1999-05-31</td>\n",
       "<td class=val>9999-12-31</td>\n",
       "<td class=val>1999-06-02T00:00:00Z</td>\n",
       "<td class=val>9999-12-31</td>\n",
       "<td class=val>l'état débute avant l'existence</td></tr><tr class=even><td class=val><a href=\"http://www.abes.fr/entities/etats/221f96890ac862347e0eb05ad72c88f0bee0ec20\" target=\"_other\">http://www.abes.fr/entities/etats/221f96890ac862347e0eb05ad72c88f0bee0ec20</a></td>\n",
       "<td class=val><a href=\"http://www.abes.fr/entities/etat/existence/qPCgk/56539f629975363b2513ce5c9258f996\" target=\"_other\">http://www.abes.fr/entities/etat/existence/qPCgk/56539f629975363b2513ce5c9258f996</a></td>\n",
       "<td class=val>1969-12-18</td>\n",
       "<td class=val>2018-01-14</td>\n",
       "<td class=val>1971-01-01T00:00:00Z</td>\n",
       "<td class=val>2017-12-31T00:00:00Z</td>\n",
       "<td class=val>l'état débute avant l'existence</td></tr><tr class=odd><td class=val><a href=\"http://www.abes.fr/entities/etats/611137c6e23280b20c44bfe57f42ba86bf2430e0\" target=\"_other\">http://www.abes.fr/entities/etats/611137c6e23280b20c44bfe57f42ba86bf2430e0</a></td>\n",
       "<td class=val><a href=\"http://www.abes.fr/entities/etat/existence/3RMeh/56539f629975363b2513ce5c9258f996\" target=\"_other\">http://www.abes.fr/entities/etat/existence/3RMeh/56539f629975363b2513ce5c9258f996</a></td>\n",
       "<td class=val>1970-03-21</td>\n",
       "<td class=val>2017-12-31</td>\n",
       "<td class=val>1971-01-01T00:00:00Z</td>\n",
       "<td class=val>2017-12-31T00:00:00Z</td>\n",
       "<td class=val>l'état débute avant l'existence</td></tr><tr class=even><td class=val><a href=\"http://www.abes.fr/entities/etats/456dc4aa69069c333bad34f186a5a8d18a4c8323\" target=\"_other\">http://www.abes.fr/entities/etats/456dc4aa69069c333bad34f186a5a8d18a4c8323</a></td>\n",
       "<td class=val><a href=\"http://www.abes.fr/entities/etat/existence/HCBvW/ad293659175ee280c1924086200f917c\" target=\"_other\">http://www.abes.fr/entities/etat/existence/HCBvW/ad293659175ee280c1924086200f917c</a></td>\n",
       "<td class=val>1966-04-14</td>\n",
       "<td class=val>9999-12-31</td>\n",
       "<td class=val>1971-01-01T00:00:00Z</td>\n",
       "<td class=val>9999-12-31</td>\n",
       "<td class=val>l'état débute avant l'existence</td></tr><tr class=odd><td class=val><a href=\"http://www.abes.fr/entities/etats/f2c0f6b9db944e29535bff461413f322523c8459\" target=\"_other\">http://www.abes.fr/entities/etats/f2c0f6b9db944e29535bff461413f322523c8459</a></td>\n",
       "<td class=val><a href=\"http://www.abes.fr/entities/etat/existence/yH19Y/d80535ac14269c193560d234f0f11396\" target=\"_other\">http://www.abes.fr/entities/etat/existence/yH19Y/d80535ac14269c193560d234f0f11396</a></td>\n",
       "<td class=val>1991-11-07</td>\n",
       "<td class=val>9999-12-31</td>\n",
       "<td class=val>1991-11-15T00:00:00Z</td>\n",
       "<td class=val>9999-12-31</td>\n",
       "<td class=val>l'état débute avant l'existence</td></tr><tr class=even><td class=val><a href=\"http://www.abes.fr/entities/etats/e9b502a6ecce37493684911d0fc4da62e6754793\" target=\"_other\">http://www.abes.fr/entities/etats/e9b502a6ecce37493684911d0fc4da62e6754793</a></td>\n",
       "<td class=val><a href=\"http://www.abes.fr/entities/etat/existence/1I7hJ/ad293659175ee280c1924086200f917c\" target=\"_other\">http://www.abes.fr/entities/etat/existence/1I7hJ/ad293659175ee280c1924086200f917c</a></td>\n",
       "<td class=val>1970-11-18</td>\n",
       "<td class=val>9999-12-31</td>\n",
       "<td class=val>1971-01-01T00:00:00Z</td>\n",
       "<td class=val>9999-12-31</td>\n",
       "<td class=val>l'état débute avant l'existence</td></tr></table><div class=\"tinfo\">Total: 41, Shown: 20</div></div>"
      ]
     },
     "metadata": {},
     "output_type": "display_data"
    }
   ],
   "source": [
    "%qparam infer true\n",
    "%qparam sameAs false\n",
    "%show 20\n",
    "\n",
    "PREFIX mov: <http://www.abes.fr/vocabularies/movies#>\n",
    "PREFIX foaf: <http://xmlns.com/foaf/0.1/>\n",
    "PREFIX xsd: <http://www.w3.org/2001/XMLSchema#>\n",
    "\n",
    "SELECT DISTINCT ?state ?existence ?state_start ?state_end ?existence_start ?existence_end ?diagnostic WHERE {\n",
    "    ?existence a <http://www.abes.fr/entities/etats>;\n",
    "        mov:from ?from;\n",
    "        mov:statetype \"existence\";\n",
    "        mov:start ?existence_start.\n",
    "    \n",
    "    OPTIONAL {\n",
    "        ?existence mov:end ?e_end.\n",
    "    }\n",
    "    \n",
    "    OPTIONAL {\n",
    "        ?state a <http://www.abes.fr/entities/etats>;\n",
    "           mov:from ?from;\n",
    "           mov:start ?state_start;\n",
    "           mov:statetype ?state_type.\n",
    "        \n",
    "        OPTIONAL {\n",
    "            ?state mov:end ?s_end.\n",
    "        }\n",
    "    }\n",
    "    \n",
    "    FILTER(?state_type NOT IN (\"existence\", \"succession\"))\n",
    "    \n",
    "    BIND (IF(!BOUND(?s_end), \"9999-12-31\"^^xsd:date, ?s_end )  AS ?state_end)\n",
    "    BIND (IF(!BOUND(?e_end), \"9999-12-31\"^^xsd:date, ?e_end )  AS ?existence_end)\n",
    "    \n",
    "    BIND( IF(?state_start < ?existence_start && ?state_end > ?existence_end, \"?state_start < ?existence_start && ?s_end > ?e_end\", BNODE()) AS ?diagnostic)\n",
    "    BIND( IF(?state_start < ?existence_start, \"l'état débute avant l'existence\", BNODE()) AS ?diagnostic)\n",
    "    BIND( IF(?state_end > ?existence_end, \"l'état termine après l'existence\", BNODE()) AS ?diagnostic)\n",
    "\n",
    "    FILTER(!ISBLANK(?diagnostic))\n",
    "}"
   ]
  },
  {
   "cell_type": "markdown",
   "id": "669c3cdb-76a6-4013-8dc7-7715d4b8fb1f",
   "metadata": {
    "kernel": "sparql"
   },
   "source": [
    "## Enrichissement des données"
   ]
  },
  {
   "cell_type": "markdown",
   "id": "b8a7abc6-1ef4-4e2c-bcb2-39af0a746922",
   "metadata": {
    "kernel": "sparql",
    "tags": []
   },
   "source": [
    "### Candidats enrichissement des données ABES/Paysage\n",
    "On recherche les candidats non liés par leur nom (foaf:name|skos:prefLabel|skos:altLabel)"
   ]
  },
  {
   "cell_type": "code",
   "execution_count": 8,
   "id": "d79577a1-a8bd-4ae0-a6cd-dfc13f9c6849",
   "metadata": {
    "kernel": "SPARQL",
    "tags": []
   },
   "outputs": [
    {
     "data": {
      "text/html": [
       "<div class=\"krn-spql\"><div class=\"magic\">Param set: infer = false</div><div class=\"magic\">Param set: sameAs = false</div></div>"
      ],
      "text/plain": [
       "Param set: infer = false\n",
       "Param set: sameAs = false\n"
      ]
     },
     "metadata": {},
     "output_type": "display_data"
    },
    {
     "data": {
      "text/html": [
       "<div class=\"krn-spql\"><table><tr class=hdr><th>org_abes</th>\n",
       "<th>name</th>\n",
       "<th>org_paysage</th>\n",
       "<th>candidat_paysage</th></tr><tr class=odd><td class=val><a href=\"http://www.abes.fr/entities/organizations/ppn/027291340\" target=\"_other\">http://www.abes.fr/entities/organizations/ppn/027291340</a></td>\n",
       "<td class=val>Université de Lille</td>\n",
       "<td class=val></td>\n",
       "<td class=val><a href=\"http://paysage.mesri.fr/structures/Szqy5\" target=\"_other\">http://paysage.mesri.fr/structures/Szqy5</a></td></tr><tr class=even><td class=val><a href=\"http://www.abes.fr/entities/organizations/ppn/027291340\" target=\"_other\">http://www.abes.fr/entities/organizations/ppn/027291340</a></td>\n",
       "<td class=val>Université de Lille</td>\n",
       "<td class=val></td>\n",
       "<td class=val><a href=\"http://paysage.mesri.fr/structures/Szqy5\" target=\"_other\">http://paysage.mesri.fr/structures/Szqy5</a></td></tr><tr class=odd><td class=val><a href=\"http://www.abes.fr/entities/organizations/ppn/027291340\" target=\"_other\">http://www.abes.fr/entities/organizations/ppn/027291340</a></td>\n",
       "<td class=val>Université de Lille</td>\n",
       "<td class=val></td>\n",
       "<td class=val><a href=\"http://paysage.mesri.fr/structures/Szqy5\" target=\"_other\">http://paysage.mesri.fr/structures/Szqy5</a></td></tr><tr class=even><td class=val><a href=\"http://www.abes.fr/entities/organizations/ppn/236453505\" target=\"_other\">http://www.abes.fr/entities/organizations/ppn/236453505</a></td>\n",
       "<td class=val>Université de Paris</td>\n",
       "<td class=val></td>\n",
       "<td class=val><a href=\"http://paysage.mesri.fr/structures/5cZyU\" target=\"_other\">http://paysage.mesri.fr/structures/5cZyU</a></td></tr><tr class=odd><td class=val><a href=\"http://www.abes.fr/entities/organizations/ppn/236453505\" target=\"_other\">http://www.abes.fr/entities/organizations/ppn/236453505</a></td>\n",
       "<td class=val>Université de Paris</td>\n",
       "<td class=val></td>\n",
       "<td class=val><a href=\"http://paysage.mesri.fr/structures/kyS9n\" target=\"_other\">http://paysage.mesri.fr/structures/kyS9n</a></td></tr><tr class=even><td class=val><a href=\"http://www.abes.fr/entities/organizations/ppn/236453505\" target=\"_other\">http://www.abes.fr/entities/organizations/ppn/236453505</a></td>\n",
       "<td class=val>Université de Paris</td>\n",
       "<td class=val></td>\n",
       "<td class=val><a href=\"http://paysage.mesri.fr/structures/5cZyU\" target=\"_other\">http://paysage.mesri.fr/structures/5cZyU</a></td></tr><tr class=odd><td class=val><a href=\"http://www.abes.fr/entities/organizations/ppn/236453505\" target=\"_other\">http://www.abes.fr/entities/organizations/ppn/236453505</a></td>\n",
       "<td class=val>Université de Paris</td>\n",
       "<td class=val></td>\n",
       "<td class=val><a href=\"http://paysage.mesri.fr/structures/kyS9n\" target=\"_other\">http://paysage.mesri.fr/structures/kyS9n</a></td></tr><tr class=even><td class=val><a href=\"http://www.abes.fr/entities/organizations/ppn/236453505\" target=\"_other\">http://www.abes.fr/entities/organizations/ppn/236453505</a></td>\n",
       "<td class=val>Université de Paris</td>\n",
       "<td class=val></td>\n",
       "<td class=val><a href=\"http://paysage.mesri.fr/structures/5cZyU\" target=\"_other\">http://paysage.mesri.fr/structures/5cZyU</a></td></tr><tr class=odd><td class=val><a href=\"http://www.abes.fr/entities/organizations/ppn/236453505\" target=\"_other\">http://www.abes.fr/entities/organizations/ppn/236453505</a></td>\n",
       "<td class=val>Université de Paris</td>\n",
       "<td class=val></td>\n",
       "<td class=val><a href=\"http://paysage.mesri.fr/structures/kyS9n\" target=\"_other\">http://paysage.mesri.fr/structures/kyS9n</a></td></tr></table><div class=\"tinfo\">Total: 9, Shown: 9</div></div>"
      ]
     },
     "metadata": {},
     "output_type": "display_data"
    }
   ],
   "source": [
    "%qparam infer false\n",
    "%qparam sameAs false\n",
    "\n",
    "PREFIX mov: <http://www.abes.fr/vocabularies/movies#>\n",
    "PREFIX foaf: <http://xmlns.com/foaf/0.1/>\n",
    "PREFIX owl: <http://www.w3.org/2002/07/owl#>\n",
    "PREFIX skos: <http://www.w3.org/2004/02/skos/core#>\n",
    "\n",
    "SELECT * WHERE {\n",
    "    ?org_abes a foaf:Organization;\n",
    "        foaf:name ?name.\n",
    "    \n",
    "    FILTER (STRSTARTS(str(?org_abes), \"http://www.abes.fr/entities/organizations/ppn\"))\n",
    "    \n",
    "    MINUS { \n",
    "        ?org_paysage (^owl:sameAs|owl:sameAs) ?org_abes .\n",
    "        FILTER (STRSTARTS(str(?org_paysage), \"http://paysage.mesri.fr/structures/\"))\n",
    "    }\n",
    "    \n",
    "    ?candidat_paysage (foaf:name|skos:prefLabel|skos:altLabel) ?name.\n",
    "    FILTER (STRSTARTS(str(?candidat_paysage), \"http://paysage.mesri.fr/structures/\"))\n",
    "}"
   ]
  },
  {
   "cell_type": "markdown",
   "id": "878dc860-ebe6-48fa-a5b3-17d7a6a4f11c",
   "metadata": {
    "kernel": "sparql",
    "tags": []
   },
   "source": [
    "## Ontologies\n",
    "\n",
    "<center>\n",
    "    <figure>\n",
    "        <img src=\"movies_ontology_v1.svg\">\n",
    "        <figcaption>Ontologie movies v1</figcaption>\n",
    "    </figure>\n",
    "</center>\n",
    "\n",
    "<center>\n",
    "    <figure>\n",
    "        <img src=\"movies_ontology_v2.svg\">\n",
    "        <figcaption>Ontologie movies v2</figcaption>\n",
    "    </figure>\n",
    "</center>\n",
    "\n"
   ]
  },
  {
   "cell_type": "code",
   "execution_count": null,
   "id": "8c90a3c1-c457-4572-8c54-819695067201",
   "metadata": {
    "kernel": "SPARQL"
   },
   "outputs": [],
   "source": []
  }
 ],
 "metadata": {
  "kernelspec": {
   "display_name": "SPARQL",
   "language": "sparql",
   "name": "sparql"
  },
  "language_info": {
   "codemirror_mode": {
    "name": "sparql"
   },
   "mimetype": "application/sparql-query",
   "name": "sparql",
   "pygments_lexer": "sparql-nb"
  },
  "sos": {
   "kernels": [
    [
     "SPARQL",
     "sparql",
     "sparql",
     "",
     {
      "name": "sparql"
     }
    ],
    [
     "SPARQL",
     "sparql",
     "sparql",
     "",
     ""
    ]
   ],
   "version": "0.22.4"
  },
  "toc-autonumbering": true,
  "toc-showcode": false,
  "toc-showmarkdowntxt": false,
  "toc-showtags": false
 },
 "nbformat": 4,
 "nbformat_minor": 5
}
